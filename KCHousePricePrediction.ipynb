{
 "cells": [
  {
   "cell_type": "code",
   "execution_count": 1,
   "id": "de4df420",
   "metadata": {
    "execution": {
     "iopub.execute_input": "2021-11-13T13:04:46.500004Z",
     "iopub.status.busy": "2021-11-13T13:04:46.498791Z",
     "iopub.status.idle": "2021-11-13T13:04:47.516537Z",
     "shell.execute_reply": "2021-11-13T13:04:47.517220Z",
     "shell.execute_reply.started": "2021-11-13T13:04:14.143879Z"
    },
    "papermill": {
     "duration": 1.093747,
     "end_time": "2021-11-13T13:04:47.517586",
     "exception": false,
     "start_time": "2021-11-13T13:04:46.423839",
     "status": "completed"
    },
    "tags": []
   },
   "outputs": [],
   "source": [
    "import pandas as pd\n",
    "import numpy as np\n",
    "import seaborn as sns\n",
    "import matplotlib.pyplot as plt"
   ]
  },
  {
   "cell_type": "code",
   "execution_count": 2,
   "id": "2c83f9ae",
   "metadata": {
    "execution": {
     "iopub.execute_input": "2021-11-13T13:04:47.667421Z",
     "iopub.status.busy": "2021-11-13T13:04:47.666310Z",
     "iopub.status.idle": "2021-11-13T13:04:47.761749Z",
     "shell.execute_reply": "2021-11-13T13:04:47.761090Z",
     "shell.execute_reply.started": "2021-11-13T13:04:14.215913Z"
    },
    "papermill": {
     "duration": 0.170588,
     "end_time": "2021-11-13T13:04:47.761941",
     "exception": false,
     "start_time": "2021-11-13T13:04:47.591353",
     "status": "completed"
    },
    "tags": []
   },
   "outputs": [],
   "source": [
    "data=pd.read_csv(\"../input/housing-data/housing2 (1) (1).csv\")"
   ]
  },
  {
   "cell_type": "code",
   "execution_count": 3,
   "id": "409cacc2",
   "metadata": {
    "execution": {
     "iopub.execute_input": "2021-11-13T13:04:48.002632Z",
     "iopub.status.busy": "2021-11-13T13:04:48.001758Z",
     "iopub.status.idle": "2021-11-13T13:04:48.037565Z",
     "shell.execute_reply": "2021-11-13T13:04:48.038125Z",
     "shell.execute_reply.started": "2021-11-13T13:04:14.300305Z"
    },
    "papermill": {
     "duration": 0.115859,
     "end_time": "2021-11-13T13:04:48.038337",
     "exception": false,
     "start_time": "2021-11-13T13:04:47.922478",
     "status": "completed"
    },
    "scrolled": true,
    "tags": []
   },
   "outputs": [
    {
     "data": {
      "text/html": [
       "<div>\n",
       "<style scoped>\n",
       "    .dataframe tbody tr th:only-of-type {\n",
       "        vertical-align: middle;\n",
       "    }\n",
       "\n",
       "    .dataframe tbody tr th {\n",
       "        vertical-align: top;\n",
       "    }\n",
       "\n",
       "    .dataframe thead th {\n",
       "        text-align: right;\n",
       "    }\n",
       "</style>\n",
       "<table border=\"1\" class=\"dataframe\">\n",
       "  <thead>\n",
       "    <tr style=\"text-align: right;\">\n",
       "      <th></th>\n",
       "      <th>longitude</th>\n",
       "      <th>latitude</th>\n",
       "      <th>housing_median_age</th>\n",
       "      <th>total_rooms</th>\n",
       "      <th>total_bedrooms</th>\n",
       "      <th>population</th>\n",
       "      <th>households</th>\n",
       "      <th>median_income</th>\n",
       "      <th>median_house_value</th>\n",
       "      <th>ocean_proximity</th>\n",
       "      <th>gender</th>\n",
       "    </tr>\n",
       "  </thead>\n",
       "  <tbody>\n",
       "    <tr>\n",
       "      <th>0</th>\n",
       "      <td>-122.23</td>\n",
       "      <td>37.88</td>\n",
       "      <td>41.0</td>\n",
       "      <td>880</td>\n",
       "      <td>129.0</td>\n",
       "      <td>322.0</td>\n",
       "      <td>126</td>\n",
       "      <td>8.3252</td>\n",
       "      <td>452600</td>\n",
       "      <td>NEAR BAY</td>\n",
       "      <td>male</td>\n",
       "    </tr>\n",
       "    <tr>\n",
       "      <th>1</th>\n",
       "      <td>-122.22</td>\n",
       "      <td>37.86</td>\n",
       "      <td>21.0</td>\n",
       "      <td>7099</td>\n",
       "      <td>1106.0</td>\n",
       "      <td>2401.0</td>\n",
       "      <td>1138</td>\n",
       "      <td>8.3014</td>\n",
       "      <td>358500</td>\n",
       "      <td>NEAR BAY</td>\n",
       "      <td>female</td>\n",
       "    </tr>\n",
       "    <tr>\n",
       "      <th>2</th>\n",
       "      <td>-122.24</td>\n",
       "      <td>37.85</td>\n",
       "      <td>52.0</td>\n",
       "      <td>1467</td>\n",
       "      <td>190.0</td>\n",
       "      <td>496.0</td>\n",
       "      <td>177</td>\n",
       "      <td>7.2574</td>\n",
       "      <td>352100</td>\n",
       "      <td>NEAR BAY</td>\n",
       "      <td>male</td>\n",
       "    </tr>\n",
       "    <tr>\n",
       "      <th>3</th>\n",
       "      <td>-122.25</td>\n",
       "      <td>37.85</td>\n",
       "      <td>52.0</td>\n",
       "      <td>1274</td>\n",
       "      <td>235.0</td>\n",
       "      <td>558.0</td>\n",
       "      <td>219</td>\n",
       "      <td>5.6431</td>\n",
       "      <td>341300</td>\n",
       "      <td>NEAR BAY</td>\n",
       "      <td>female</td>\n",
       "    </tr>\n",
       "    <tr>\n",
       "      <th>4</th>\n",
       "      <td>-122.25</td>\n",
       "      <td>37.85</td>\n",
       "      <td>NaN</td>\n",
       "      <td>1627</td>\n",
       "      <td>280.0</td>\n",
       "      <td>NaN</td>\n",
       "      <td>259</td>\n",
       "      <td>3.8462</td>\n",
       "      <td>342200</td>\n",
       "      <td>NEAR BAY</td>\n",
       "      <td>male</td>\n",
       "    </tr>\n",
       "    <tr>\n",
       "      <th>...</th>\n",
       "      <td>...</td>\n",
       "      <td>...</td>\n",
       "      <td>...</td>\n",
       "      <td>...</td>\n",
       "      <td>...</td>\n",
       "      <td>...</td>\n",
       "      <td>...</td>\n",
       "      <td>...</td>\n",
       "      <td>...</td>\n",
       "      <td>...</td>\n",
       "      <td>...</td>\n",
       "    </tr>\n",
       "    <tr>\n",
       "      <th>20635</th>\n",
       "      <td>-121.09</td>\n",
       "      <td>39.48</td>\n",
       "      <td>25.0</td>\n",
       "      <td>1665</td>\n",
       "      <td>374.0</td>\n",
       "      <td>845.0</td>\n",
       "      <td>330</td>\n",
       "      <td>1.5603</td>\n",
       "      <td>78100</td>\n",
       "      <td>INLAND</td>\n",
       "      <td>female</td>\n",
       "    </tr>\n",
       "    <tr>\n",
       "      <th>20636</th>\n",
       "      <td>-121.21</td>\n",
       "      <td>39.49</td>\n",
       "      <td>18.0</td>\n",
       "      <td>697</td>\n",
       "      <td>150.0</td>\n",
       "      <td>356.0</td>\n",
       "      <td>114</td>\n",
       "      <td>2.5568</td>\n",
       "      <td>77100</td>\n",
       "      <td>INLAND</td>\n",
       "      <td>male</td>\n",
       "    </tr>\n",
       "    <tr>\n",
       "      <th>20637</th>\n",
       "      <td>-121.22</td>\n",
       "      <td>39.43</td>\n",
       "      <td>17.0</td>\n",
       "      <td>2254</td>\n",
       "      <td>485.0</td>\n",
       "      <td>1007.0</td>\n",
       "      <td>433</td>\n",
       "      <td>1.7000</td>\n",
       "      <td>92300</td>\n",
       "      <td>INLAND</td>\n",
       "      <td>female</td>\n",
       "    </tr>\n",
       "    <tr>\n",
       "      <th>20638</th>\n",
       "      <td>-121.32</td>\n",
       "      <td>39.43</td>\n",
       "      <td>18.0</td>\n",
       "      <td>1860</td>\n",
       "      <td>409.0</td>\n",
       "      <td>741.0</td>\n",
       "      <td>349</td>\n",
       "      <td>1.8672</td>\n",
       "      <td>84700</td>\n",
       "      <td>INLAND</td>\n",
       "      <td>male</td>\n",
       "    </tr>\n",
       "    <tr>\n",
       "      <th>20639</th>\n",
       "      <td>-121.24</td>\n",
       "      <td>39.37</td>\n",
       "      <td>16.0</td>\n",
       "      <td>2785</td>\n",
       "      <td>616.0</td>\n",
       "      <td>1387.0</td>\n",
       "      <td>530</td>\n",
       "      <td>2.3886</td>\n",
       "      <td>89400</td>\n",
       "      <td>INLAND</td>\n",
       "      <td>female</td>\n",
       "    </tr>\n",
       "  </tbody>\n",
       "</table>\n",
       "<p>20640 rows × 11 columns</p>\n",
       "</div>"
      ],
      "text/plain": [
       "       longitude  latitude  housing_median_age  total_rooms  total_bedrooms  \\\n",
       "0        -122.23     37.88                41.0          880           129.0   \n",
       "1        -122.22     37.86                21.0         7099          1106.0   \n",
       "2        -122.24     37.85                52.0         1467           190.0   \n",
       "3        -122.25     37.85                52.0         1274           235.0   \n",
       "4        -122.25     37.85                 NaN         1627           280.0   \n",
       "...          ...       ...                 ...          ...             ...   \n",
       "20635    -121.09     39.48                25.0         1665           374.0   \n",
       "20636    -121.21     39.49                18.0          697           150.0   \n",
       "20637    -121.22     39.43                17.0         2254           485.0   \n",
       "20638    -121.32     39.43                18.0         1860           409.0   \n",
       "20639    -121.24     39.37                16.0         2785           616.0   \n",
       "\n",
       "       population households  median_income  median_house_value  \\\n",
       "0           322.0        126         8.3252              452600   \n",
       "1          2401.0       1138         8.3014              358500   \n",
       "2           496.0        177         7.2574              352100   \n",
       "3           558.0        219         5.6431              341300   \n",
       "4             NaN        259         3.8462              342200   \n",
       "...           ...        ...            ...                 ...   \n",
       "20635       845.0        330         1.5603               78100   \n",
       "20636       356.0        114         2.5568               77100   \n",
       "20637      1007.0        433         1.7000               92300   \n",
       "20638       741.0        349         1.8672               84700   \n",
       "20639      1387.0        530         2.3886               89400   \n",
       "\n",
       "      ocean_proximity  gender  \n",
       "0            NEAR BAY    male  \n",
       "1            NEAR BAY  female  \n",
       "2            NEAR BAY    male  \n",
       "3            NEAR BAY  female  \n",
       "4            NEAR BAY    male  \n",
       "...               ...     ...  \n",
       "20635          INLAND  female  \n",
       "20636          INLAND    male  \n",
       "20637          INLAND  female  \n",
       "20638          INLAND    male  \n",
       "20639          INLAND  female  \n",
       "\n",
       "[20640 rows x 11 columns]"
      ]
     },
     "execution_count": 3,
     "metadata": {},
     "output_type": "execute_result"
    }
   ],
   "source": [
    "data"
   ]
  },
  {
   "cell_type": "markdown",
   "id": "3afbb4d5",
   "metadata": {
    "papermill": {
     "duration": 0.071239,
     "end_time": "2021-11-13T13:04:48.181923",
     "exception": false,
     "start_time": "2021-11-13T13:04:48.110684",
     "status": "completed"
    },
    "tags": []
   },
   "source": [
    "# EDA"
   ]
  },
  {
   "cell_type": "code",
   "execution_count": 4,
   "id": "f2988b1f",
   "metadata": {
    "execution": {
     "iopub.execute_input": "2021-11-13T13:04:48.328189Z",
     "iopub.status.busy": "2021-11-13T13:04:48.327178Z",
     "iopub.status.idle": "2021-11-13T13:04:48.357213Z",
     "shell.execute_reply": "2021-11-13T13:04:48.357706Z",
     "shell.execute_reply.started": "2021-11-13T13:04:14.335774Z"
    },
    "papermill": {
     "duration": 0.104434,
     "end_time": "2021-11-13T13:04:48.357900",
     "exception": false,
     "start_time": "2021-11-13T13:04:48.253466",
     "status": "completed"
    },
    "tags": []
   },
   "outputs": [
    {
     "name": "stdout",
     "output_type": "stream",
     "text": [
      "<class 'pandas.core.frame.DataFrame'>\n",
      "RangeIndex: 20640 entries, 0 to 20639\n",
      "Data columns (total 11 columns):\n",
      " #   Column              Non-Null Count  Dtype  \n",
      "---  ------              --------------  -----  \n",
      " 0   longitude           20640 non-null  float64\n",
      " 1   latitude            20640 non-null  float64\n",
      " 2   housing_median_age  20382 non-null  float64\n",
      " 3   total_rooms         20640 non-null  int64  \n",
      " 4   total_bedrooms      15758 non-null  float64\n",
      " 5   population          20596 non-null  float64\n",
      " 6   households          19335 non-null  object \n",
      " 7   median_income       17873 non-null  float64\n",
      " 8   median_house_value  20640 non-null  int64  \n",
      " 9   ocean_proximity     20640 non-null  object \n",
      " 10  gender              16620 non-null  object \n",
      "dtypes: float64(6), int64(2), object(3)\n",
      "memory usage: 1.7+ MB\n"
     ]
    }
   ],
   "source": [
    "data.info()"
   ]
  },
  {
   "cell_type": "code",
   "execution_count": 5,
   "id": "c5520404",
   "metadata": {
    "execution": {
     "iopub.execute_input": "2021-11-13T13:04:48.513812Z",
     "iopub.status.busy": "2021-11-13T13:04:48.513093Z",
     "iopub.status.idle": "2021-11-13T13:04:48.519750Z",
     "shell.execute_reply": "2021-11-13T13:04:48.520335Z",
     "shell.execute_reply.started": "2021-11-13T13:04:14.365520Z"
    },
    "papermill": {
     "duration": 0.090929,
     "end_time": "2021-11-13T13:04:48.520515",
     "exception": false,
     "start_time": "2021-11-13T13:04:48.429586",
     "status": "completed"
    },
    "tags": []
   },
   "outputs": [
    {
     "data": {
      "text/plain": [
       "longitude                0\n",
       "latitude                 0\n",
       "housing_median_age     258\n",
       "total_rooms              0\n",
       "total_bedrooms        4882\n",
       "population              44\n",
       "households            1305\n",
       "median_income         2767\n",
       "median_house_value       0\n",
       "ocean_proximity          0\n",
       "gender                4020\n",
       "dtype: int64"
      ]
     },
     "execution_count": 5,
     "metadata": {},
     "output_type": "execute_result"
    }
   ],
   "source": [
    "data.isnull().sum()"
   ]
  },
  {
   "cell_type": "markdown",
   "id": "6aa31225",
   "metadata": {
    "papermill": {
     "duration": 0.072326,
     "end_time": "2021-11-13T13:04:48.664335",
     "exception": false,
     "start_time": "2021-11-13T13:04:48.592009",
     "status": "completed"
    },
    "tags": []
   },
   "source": [
    "###### there are 20640 entries and 11 coloumns ..\n",
    "###### there are null values in \"housing_median_age\" , \"total_bedrooms\",\"population\",\"households\",\"median_income\",\"gender\" "
   ]
  },
  {
   "cell_type": "code",
   "execution_count": 6,
   "id": "1390250b",
   "metadata": {
    "execution": {
     "iopub.execute_input": "2021-11-13T13:04:48.810186Z",
     "iopub.status.busy": "2021-11-13T13:04:48.809525Z",
     "iopub.status.idle": "2021-11-13T13:04:48.850266Z",
     "shell.execute_reply": "2021-11-13T13:04:48.849701Z",
     "shell.execute_reply.started": "2021-11-13T13:04:14.383053Z"
    },
    "papermill": {
     "duration": 0.114484,
     "end_time": "2021-11-13T13:04:48.850422",
     "exception": false,
     "start_time": "2021-11-13T13:04:48.735938",
     "status": "completed"
    },
    "tags": []
   },
   "outputs": [
    {
     "data": {
      "text/html": [
       "<div>\n",
       "<style scoped>\n",
       "    .dataframe tbody tr th:only-of-type {\n",
       "        vertical-align: middle;\n",
       "    }\n",
       "\n",
       "    .dataframe tbody tr th {\n",
       "        vertical-align: top;\n",
       "    }\n",
       "\n",
       "    .dataframe thead th {\n",
       "        text-align: right;\n",
       "    }\n",
       "</style>\n",
       "<table border=\"1\" class=\"dataframe\">\n",
       "  <thead>\n",
       "    <tr style=\"text-align: right;\">\n",
       "      <th></th>\n",
       "      <th>longitude</th>\n",
       "      <th>latitude</th>\n",
       "      <th>housing_median_age</th>\n",
       "      <th>total_rooms</th>\n",
       "      <th>total_bedrooms</th>\n",
       "      <th>population</th>\n",
       "      <th>median_income</th>\n",
       "      <th>median_house_value</th>\n",
       "    </tr>\n",
       "  </thead>\n",
       "  <tbody>\n",
       "    <tr>\n",
       "      <th>count</th>\n",
       "      <td>20640.000000</td>\n",
       "      <td>20640.000000</td>\n",
       "      <td>20382.000000</td>\n",
       "      <td>20640.000000</td>\n",
       "      <td>15758.000000</td>\n",
       "      <td>20596.000000</td>\n",
       "      <td>17873.000000</td>\n",
       "      <td>20640.000000</td>\n",
       "    </tr>\n",
       "    <tr>\n",
       "      <th>mean</th>\n",
       "      <td>-119.569704</td>\n",
       "      <td>35.631861</td>\n",
       "      <td>28.676283</td>\n",
       "      <td>2635.763081</td>\n",
       "      <td>539.920104</td>\n",
       "      <td>1424.928724</td>\n",
       "      <td>3.939403</td>\n",
       "      <td>206855.816909</td>\n",
       "    </tr>\n",
       "    <tr>\n",
       "      <th>std</th>\n",
       "      <td>2.003532</td>\n",
       "      <td>2.135952</td>\n",
       "      <td>12.589284</td>\n",
       "      <td>2181.615252</td>\n",
       "      <td>419.834171</td>\n",
       "      <td>1132.237768</td>\n",
       "      <td>1.943517</td>\n",
       "      <td>115395.615874</td>\n",
       "    </tr>\n",
       "    <tr>\n",
       "      <th>min</th>\n",
       "      <td>-124.350000</td>\n",
       "      <td>32.540000</td>\n",
       "      <td>1.000000</td>\n",
       "      <td>2.000000</td>\n",
       "      <td>1.000000</td>\n",
       "      <td>3.000000</td>\n",
       "      <td>0.499900</td>\n",
       "      <td>14999.000000</td>\n",
       "    </tr>\n",
       "    <tr>\n",
       "      <th>25%</th>\n",
       "      <td>-121.800000</td>\n",
       "      <td>33.930000</td>\n",
       "      <td>18.000000</td>\n",
       "      <td>1447.750000</td>\n",
       "      <td>296.000000</td>\n",
       "      <td>787.000000</td>\n",
       "      <td>2.598600</td>\n",
       "      <td>119600.000000</td>\n",
       "    </tr>\n",
       "    <tr>\n",
       "      <th>50%</th>\n",
       "      <td>-118.490000</td>\n",
       "      <td>34.260000</td>\n",
       "      <td>29.000000</td>\n",
       "      <td>2127.000000</td>\n",
       "      <td>435.000000</td>\n",
       "      <td>1166.000000</td>\n",
       "      <td>3.587100</td>\n",
       "      <td>179700.000000</td>\n",
       "    </tr>\n",
       "    <tr>\n",
       "      <th>75%</th>\n",
       "      <td>-118.010000</td>\n",
       "      <td>37.710000</td>\n",
       "      <td>37.000000</td>\n",
       "      <td>3148.000000</td>\n",
       "      <td>652.000000</td>\n",
       "      <td>1725.000000</td>\n",
       "      <td>4.830400</td>\n",
       "      <td>264725.000000</td>\n",
       "    </tr>\n",
       "    <tr>\n",
       "      <th>max</th>\n",
       "      <td>-114.310000</td>\n",
       "      <td>41.950000</td>\n",
       "      <td>52.000000</td>\n",
       "      <td>39320.000000</td>\n",
       "      <td>6210.000000</td>\n",
       "      <td>35682.000000</td>\n",
       "      <td>15.000100</td>\n",
       "      <td>500001.000000</td>\n",
       "    </tr>\n",
       "  </tbody>\n",
       "</table>\n",
       "</div>"
      ],
      "text/plain": [
       "          longitude      latitude  housing_median_age   total_rooms  \\\n",
       "count  20640.000000  20640.000000        20382.000000  20640.000000   \n",
       "mean    -119.569704     35.631861           28.676283   2635.763081   \n",
       "std        2.003532      2.135952           12.589284   2181.615252   \n",
       "min     -124.350000     32.540000            1.000000      2.000000   \n",
       "25%     -121.800000     33.930000           18.000000   1447.750000   \n",
       "50%     -118.490000     34.260000           29.000000   2127.000000   \n",
       "75%     -118.010000     37.710000           37.000000   3148.000000   \n",
       "max     -114.310000     41.950000           52.000000  39320.000000   \n",
       "\n",
       "       total_bedrooms    population  median_income  median_house_value  \n",
       "count    15758.000000  20596.000000   17873.000000        20640.000000  \n",
       "mean       539.920104   1424.928724       3.939403       206855.816909  \n",
       "std        419.834171   1132.237768       1.943517       115395.615874  \n",
       "min          1.000000      3.000000       0.499900        14999.000000  \n",
       "25%        296.000000    787.000000       2.598600       119600.000000  \n",
       "50%        435.000000   1166.000000       3.587100       179700.000000  \n",
       "75%        652.000000   1725.000000       4.830400       264725.000000  \n",
       "max       6210.000000  35682.000000      15.000100       500001.000000  "
      ]
     },
     "execution_count": 6,
     "metadata": {},
     "output_type": "execute_result"
    }
   ],
   "source": [
    "data.describe()"
   ]
  },
  {
   "cell_type": "code",
   "execution_count": 7,
   "id": "a974a562",
   "metadata": {
    "execution": {
     "iopub.execute_input": "2021-11-13T13:04:49.019554Z",
     "iopub.status.busy": "2021-11-13T13:04:49.005081Z",
     "iopub.status.idle": "2021-11-13T13:04:49.030216Z",
     "shell.execute_reply": "2021-11-13T13:04:49.030693Z",
     "shell.execute_reply.started": "2021-11-13T13:04:14.426122Z"
    },
    "papermill": {
     "duration": 0.107569,
     "end_time": "2021-11-13T13:04:49.030889",
     "exception": false,
     "start_time": "2021-11-13T13:04:48.923320",
     "status": "completed"
    },
    "tags": []
   },
   "outputs": [
    {
     "data": {
      "text/html": [
       "<div>\n",
       "<style scoped>\n",
       "    .dataframe tbody tr th:only-of-type {\n",
       "        vertical-align: middle;\n",
       "    }\n",
       "\n",
       "    .dataframe tbody tr th {\n",
       "        vertical-align: top;\n",
       "    }\n",
       "\n",
       "    .dataframe thead th {\n",
       "        text-align: right;\n",
       "    }\n",
       "</style>\n",
       "<table border=\"1\" class=\"dataframe\">\n",
       "  <thead>\n",
       "    <tr style=\"text-align: right;\">\n",
       "      <th></th>\n",
       "      <th>households</th>\n",
       "      <th>ocean_proximity</th>\n",
       "      <th>gender</th>\n",
       "    </tr>\n",
       "  </thead>\n",
       "  <tbody>\n",
       "    <tr>\n",
       "      <th>count</th>\n",
       "      <td>19335</td>\n",
       "      <td>20640</td>\n",
       "      <td>16620</td>\n",
       "    </tr>\n",
       "    <tr>\n",
       "      <th>unique</th>\n",
       "      <td>1703</td>\n",
       "      <td>5</td>\n",
       "      <td>2</td>\n",
       "    </tr>\n",
       "    <tr>\n",
       "      <th>top</th>\n",
       "      <td>no</td>\n",
       "      <td>&lt;1H OCEAN</td>\n",
       "      <td>female</td>\n",
       "    </tr>\n",
       "    <tr>\n",
       "      <th>freq</th>\n",
       "      <td>3080</td>\n",
       "      <td>9136</td>\n",
       "      <td>8673</td>\n",
       "    </tr>\n",
       "  </tbody>\n",
       "</table>\n",
       "</div>"
      ],
      "text/plain": [
       "       households ocean_proximity  gender\n",
       "count       19335           20640   16620\n",
       "unique       1703               5       2\n",
       "top            no       <1H OCEAN  female\n",
       "freq         3080            9136    8673"
      ]
     },
     "execution_count": 7,
     "metadata": {},
     "output_type": "execute_result"
    }
   ],
   "source": [
    "data.describe(include=\"object\")"
   ]
  },
  {
   "cell_type": "code",
   "execution_count": 8,
   "id": "6375e59b",
   "metadata": {
    "execution": {
     "iopub.execute_input": "2021-11-13T13:04:49.196820Z",
     "iopub.status.busy": "2021-11-13T13:04:49.186388Z",
     "iopub.status.idle": "2021-11-13T13:04:49.955264Z",
     "shell.execute_reply": "2021-11-13T13:04:49.955781Z",
     "shell.execute_reply.started": "2021-11-13T13:04:14.460804Z"
    },
    "papermill": {
     "duration": 0.852525,
     "end_time": "2021-11-13T13:04:49.955956",
     "exception": false,
     "start_time": "2021-11-13T13:04:49.103431",
     "status": "completed"
    },
    "tags": []
   },
   "outputs": [
    {
     "data": {
      "image/png": "[encoded data removed]",
      "text/plain": [
       "<Figure size 432x288 with 2 Axes>"
      ]
     },
     "metadata": {
      "needs_background": "light"
     },
     "output_type": "display_data"
    }
   ],
   "source": [
    "plt.scatter(data = data , x=\"longitude\" , y=\"latitude\" , c =data[\"median_house_value\"]  )\n",
    "plt.colorbar ()\n",
    "plt.show()"
   ]
  },
  {
   "cell_type": "markdown",
   "id": "088fa5c6",
   "metadata": {
    "papermill": {
     "duration": 0.076229,
     "end_time": "2021-11-13T13:04:50.107608",
     "exception": false,
     "start_time": "2021-11-13T13:04:50.031379",
     "status": "completed"
    },
    "tags": []
   },
   "source": [
    "The price of the houses next to ocean is too high compare to all other houses."
   ]
  },
  {
   "cell_type": "code",
   "execution_count": 9,
   "id": "347a1a71",
   "metadata": {
    "execution": {
     "iopub.execute_input": "2021-11-13T13:04:50.266085Z",
     "iopub.status.busy": "2021-11-13T13:04:50.265275Z",
     "iopub.status.idle": "2021-11-13T13:04:50.382065Z",
     "shell.execute_reply": "2021-11-13T13:04:50.382552Z",
     "shell.execute_reply.started": "2021-11-13T13:04:15.198985Z"
    },
    "papermill": {
     "duration": 0.200114,
     "end_time": "2021-11-13T13:04:50.382741",
     "exception": false,
     "start_time": "2021-11-13T13:04:50.182627",
     "status": "completed"
    },
    "tags": []
   },
   "outputs": [
    {
     "name": "stderr",
     "output_type": "stream",
     "text": [
      "/opt/conda/lib/python3.7/site-packages/pandas/plotting/_matplotlib/core.py:1616: MatplotlibDeprecationWarning: normalize=None does not normalize if the sum is less than 1 but this behavior is deprecated since 3.3 until two minor releases later. After the deprecation period the default value will be normalize=True. To prevent normalization pass normalize=False \n",
      "  results = ax.pie(y, labels=blabels, **kwds)\n"
     ]
    },
    {
     "data": {
      "text/plain": [
       "<AxesSubplot:ylabel='gender'>"
      ]
     },
     "execution_count": 9,
     "metadata": {},
     "output_type": "execute_result"
    },
    {
     "data": {
      "image/png": "[encoded data removed]",
      "text/plain": [
       "<Figure size 432x288 with 1 Axes>"
      ]
     },
     "metadata": {},
     "output_type": "display_data"
    }
   ],
   "source": [
    "(data['gender'].value_counts()/data.shape[0]).plot.pie(autopct='%1.2f%%')"
   ]
  },
  {
   "cell_type": "markdown",
   "id": "0f8fb625",
   "metadata": {
    "papermill": {
     "duration": 0.075817,
     "end_time": "2021-11-13T13:04:50.534375",
     "exception": false,
     "start_time": "2021-11-13T13:04:50.458558",
     "status": "completed"
    },
    "tags": []
   },
   "source": [
    "### there are more females than males."
   ]
  },
  {
   "cell_type": "code",
   "execution_count": 10,
   "id": "a56277ea",
   "metadata": {
    "execution": {
     "iopub.execute_input": "2021-11-13T13:04:50.690858Z",
     "iopub.status.busy": "2021-11-13T13:04:50.689838Z",
     "iopub.status.idle": "2021-11-13T13:04:51.197557Z",
     "shell.execute_reply": "2021-11-13T13:04:51.197024Z",
     "shell.execute_reply.started": "2021-11-13T13:04:15.323156Z"
    },
    "papermill": {
     "duration": 0.587116,
     "end_time": "2021-11-13T13:04:51.197708",
     "exception": false,
     "start_time": "2021-11-13T13:04:50.610592",
     "status": "completed"
    },
    "tags": []
   },
   "outputs": [
    {
     "data": {
      "text/plain": [
       "<AxesSubplot:xlabel='ocean_proximity', ylabel='median_house_value'>"
      ]
     },
     "execution_count": 10,
     "metadata": {},
     "output_type": "execute_result"
    },
    {
     "data": {
      "image/png": "[encoded data removed]",
      "text/plain": [
       "<Figure size 432x288 with 1 Axes>"
      ]
     },
     "metadata": {
      "needs_background": "light"
     },
     "output_type": "display_data"
    }
   ],
   "source": [
    "sns.barplot(x=\"ocean_proximity\",y=\"median_house_value\",data=data)"
   ]
  },
  {
   "cell_type": "markdown",
   "id": "fe4f8a62",
   "metadata": {
    "papermill": {
     "duration": 0.076343,
     "end_time": "2021-11-13T13:04:51.351018",
     "exception": false,
     "start_time": "2021-11-13T13:04:51.274675",
     "status": "completed"
    },
    "tags": []
   },
   "source": [
    "### Island houses are the most expensive,while Inland houses are the cheapest.\n",
    "\n"
   ]
  },
  {
   "cell_type": "code",
   "execution_count": 11,
   "id": "62ed960d",
   "metadata": {
    "execution": {
     "iopub.execute_input": "2021-11-13T13:04:51.508883Z",
     "iopub.status.busy": "2021-11-13T13:04:51.507916Z",
     "iopub.status.idle": "2021-11-13T13:04:51.947464Z",
     "shell.execute_reply": "2021-11-13T13:04:51.947994Z",
     "shell.execute_reply.started": "2021-11-13T13:04:15.878988Z"
    },
    "papermill": {
     "duration": 0.519759,
     "end_time": "2021-11-13T13:04:51.948184",
     "exception": false,
     "start_time": "2021-11-13T13:04:51.428425",
     "status": "completed"
    },
    "tags": []
   },
   "outputs": [
    {
     "data": {
      "text/plain": [
       "<seaborn.axisgrid.FacetGrid at 0x7f6a8ca95c90>"
      ]
     },
     "execution_count": 11,
     "metadata": {},
     "output_type": "execute_result"
    },
    {
     "data": {
      "image/png": "[encoded data removed]",
      "text/plain": [
       "<Figure size 360x360 with 1 Axes>"
      ]
     },
     "metadata": {
      "needs_background": "light"
     },
     "output_type": "display_data"
    }
   ],
   "source": [
    "sns.relplot(x=\"median_income\", y=\"median_house_value\", data=data)"
   ]
  },
  {
   "cell_type": "markdown",
   "id": "0929a156",
   "metadata": {
    "papermill": {
     "duration": 0.083499,
     "end_time": "2021-11-13T13:04:52.112142",
     "exception": false,
     "start_time": "2021-11-13T13:04:52.028643",
     "status": "completed"
    },
    "tags": []
   },
   "source": [
    "## Customers with higher income tends to buy more expensive houses."
   ]
  },
  {
   "cell_type": "code",
   "execution_count": 12,
   "id": "580e2e4e",
   "metadata": {
    "execution": {
     "iopub.execute_input": "2021-11-13T13:04:52.283588Z",
     "iopub.status.busy": "2021-11-13T13:04:52.282829Z",
     "iopub.status.idle": "2021-11-13T13:04:55.435075Z",
     "shell.execute_reply": "2021-11-13T13:04:55.434462Z",
     "shell.execute_reply.started": "2021-11-13T13:04:16.298086Z"
    },
    "papermill": {
     "duration": 3.242071,
     "end_time": "2021-11-13T13:04:55.435238",
     "exception": false,
     "start_time": "2021-11-13T13:04:52.193167",
     "status": "completed"
    },
    "scrolled": true,
    "tags": []
   },
   "outputs": [
    {
     "data": {
      "image/png": "[encoded data removed]",
      "text/plain": [
       "<Figure size 1152x1440 with 9 Axes>"
      ]
     },
     "metadata": {
      "needs_background": "light"
     },
     "output_type": "display_data"
    }
   ],
   "source": [
    "data.hist(bins=120 , figsize=(16,20))\n",
    "plt.show()"
   ]
  },
  {
   "cell_type": "markdown",
   "id": "b419f4e8",
   "metadata": {
    "papermill": {
     "duration": 0.082082,
     "end_time": "2021-11-13T13:04:55.600351",
     "exception": false,
     "start_time": "2021-11-13T13:04:55.518269",
     "status": "completed"
    },
    "tags": []
   },
   "source": [
    "from histograms:\n",
    "- 'housing_median_age' : most of houses is between 10 to 45 years old .. and there are big number of houses above 50 year .\n",
    "- 'total_rooms'and 'total_bedrooms' are almost have the same curve..\n",
    "- total_rooms' has range between 0 and 10000 rooms in block  with mean= 2500 aproximatly.\n",
    "- 'total_bedrooms'has range between 0 and 1000 rooms in block  with mean= 540 aproximatly.\n",
    "- 'population', 'households' also have the same curve and the same range as in 'total_rooms'and 'total_bedrooms'.\n",
    "- 'median_income' most of people earn between 2.5k and 5k. few people has more than 10K up to 15k , then there are a small increase of income above 15k.\n",
    "- 'median_house_value' : its curve looks some how like 'median_income' curve so there are relation between them .\n",
    "- 'median_house_value': most of houses values are between 50000 and 350000... there are a huge number of houses values above 500000 ."
   ]
  },
  {
   "cell_type": "code",
   "execution_count": 13,
   "id": "d48b3c2a",
   "metadata": {
    "execution": {
     "iopub.execute_input": "2021-11-13T13:04:55.774584Z",
     "iopub.status.busy": "2021-11-13T13:04:55.773334Z",
     "iopub.status.idle": "2021-11-13T13:04:55.806761Z",
     "shell.execute_reply": "2021-11-13T13:04:55.807330Z",
     "shell.execute_reply.started": "2021-11-13T13:04:19.455759Z"
    },
    "papermill": {
     "duration": 0.124382,
     "end_time": "2021-11-13T13:04:55.807522",
     "exception": false,
     "start_time": "2021-11-13T13:04:55.683140",
     "status": "completed"
    },
    "tags": []
   },
   "outputs": [
    {
     "data": {
      "text/html": [
       "<div>\n",
       "<style scoped>\n",
       "    .dataframe tbody tr th:only-of-type {\n",
       "        vertical-align: middle;\n",
       "    }\n",
       "\n",
       "    .dataframe tbody tr th {\n",
       "        vertical-align: top;\n",
       "    }\n",
       "\n",
       "    .dataframe thead th {\n",
       "        text-align: right;\n",
       "    }\n",
       "</style>\n",
       "<table border=\"1\" class=\"dataframe\">\n",
       "  <thead>\n",
       "    <tr style=\"text-align: right;\">\n",
       "      <th></th>\n",
       "      <th>longitude</th>\n",
       "      <th>latitude</th>\n",
       "      <th>housing_median_age</th>\n",
       "      <th>total_rooms</th>\n",
       "      <th>total_bedrooms</th>\n",
       "      <th>population</th>\n",
       "      <th>median_income</th>\n",
       "      <th>median_house_value</th>\n",
       "    </tr>\n",
       "  </thead>\n",
       "  <tbody>\n",
       "    <tr>\n",
       "      <th>count</th>\n",
       "      <td>20640.000000</td>\n",
       "      <td>20640.000000</td>\n",
       "      <td>20382.000000</td>\n",
       "      <td>20640.000000</td>\n",
       "      <td>15758.000000</td>\n",
       "      <td>20596.000000</td>\n",
       "      <td>17873.000000</td>\n",
       "      <td>20640.000000</td>\n",
       "    </tr>\n",
       "    <tr>\n",
       "      <th>mean</th>\n",
       "      <td>-119.569704</td>\n",
       "      <td>35.631861</td>\n",
       "      <td>28.676283</td>\n",
       "      <td>2635.763081</td>\n",
       "      <td>539.920104</td>\n",
       "      <td>1424.928724</td>\n",
       "      <td>3.939403</td>\n",
       "      <td>206855.816909</td>\n",
       "    </tr>\n",
       "    <tr>\n",
       "      <th>std</th>\n",
       "      <td>2.003532</td>\n",
       "      <td>2.135952</td>\n",
       "      <td>12.589284</td>\n",
       "      <td>2181.615252</td>\n",
       "      <td>419.834171</td>\n",
       "      <td>1132.237768</td>\n",
       "      <td>1.943517</td>\n",
       "      <td>115395.615874</td>\n",
       "    </tr>\n",
       "    <tr>\n",
       "      <th>min</th>\n",
       "      <td>-124.350000</td>\n",
       "      <td>32.540000</td>\n",
       "      <td>1.000000</td>\n",
       "      <td>2.000000</td>\n",
       "      <td>1.000000</td>\n",
       "      <td>3.000000</td>\n",
       "      <td>0.499900</td>\n",
       "      <td>14999.000000</td>\n",
       "    </tr>\n",
       "    <tr>\n",
       "      <th>25%</th>\n",
       "      <td>-121.800000</td>\n",
       "      <td>33.930000</td>\n",
       "      <td>18.000000</td>\n",
       "      <td>1447.750000</td>\n",
       "      <td>296.000000</td>\n",
       "      <td>787.000000</td>\n",
       "      <td>2.598600</td>\n",
       "      <td>119600.000000</td>\n",
       "    </tr>\n",
       "    <tr>\n",
       "      <th>50%</th>\n",
       "      <td>-118.490000</td>\n",
       "      <td>34.260000</td>\n",
       "      <td>29.000000</td>\n",
       "      <td>2127.000000</td>\n",
       "      <td>435.000000</td>\n",
       "      <td>1166.000000</td>\n",
       "      <td>3.587100</td>\n",
       "      <td>179700.000000</td>\n",
       "    </tr>\n",
       "    <tr>\n",
       "      <th>75%</th>\n",
       "      <td>-118.010000</td>\n",
       "      <td>37.710000</td>\n",
       "      <td>37.000000</td>\n",
       "      <td>3148.000000</td>\n",
       "      <td>652.000000</td>\n",
       "      <td>1725.000000</td>\n",
       "      <td>4.830400</td>\n",
       "      <td>264725.000000</td>\n",
       "    </tr>\n",
       "    <tr>\n",
       "      <th>max</th>\n",
       "      <td>-114.310000</td>\n",
       "      <td>41.950000</td>\n",
       "      <td>52.000000</td>\n",
       "      <td>39320.000000</td>\n",
       "      <td>6210.000000</td>\n",
       "      <td>35682.000000</td>\n",
       "      <td>15.000100</td>\n",
       "      <td>500001.000000</td>\n",
       "    </tr>\n",
       "  </tbody>\n",
       "</table>\n",
       "</div>"
      ],
      "text/plain": [
       "          longitude      latitude  housing_median_age   total_rooms  \\\n",
       "count  20640.000000  20640.000000        20382.000000  20640.000000   \n",
       "mean    -119.569704     35.631861           28.676283   2635.763081   \n",
       "std        2.003532      2.135952           12.589284   2181.615252   \n",
       "min     -124.350000     32.540000            1.000000      2.000000   \n",
       "25%     -121.800000     33.930000           18.000000   1447.750000   \n",
       "50%     -118.490000     34.260000           29.000000   2127.000000   \n",
       "75%     -118.010000     37.710000           37.000000   3148.000000   \n",
       "max     -114.310000     41.950000           52.000000  39320.000000   \n",
       "\n",
       "       total_bedrooms    population  median_income  median_house_value  \n",
       "count    15758.000000  20596.000000   17873.000000        20640.000000  \n",
       "mean       539.920104   1424.928724       3.939403       206855.816909  \n",
       "std        419.834171   1132.237768       1.943517       115395.615874  \n",
       "min          1.000000      3.000000       0.499900        14999.000000  \n",
       "25%        296.000000    787.000000       2.598600       119600.000000  \n",
       "50%        435.000000   1166.000000       3.587100       179700.000000  \n",
       "75%        652.000000   1725.000000       4.830400       264725.000000  \n",
       "max       6210.000000  35682.000000      15.000100       500001.000000  "
      ]
     },
     "execution_count": 13,
     "metadata": {},
     "output_type": "execute_result"
    }
   ],
   "source": [
    "data.describe()"
   ]
  },
  {
   "cell_type": "markdown",
   "id": "bda0d6b0",
   "metadata": {
    "papermill": {
     "duration": 0.081781,
     "end_time": "2021-11-13T13:04:55.972440",
     "exception": false,
     "start_time": "2021-11-13T13:04:55.890659",
     "status": "completed"
    },
    "tags": []
   },
   "source": [
    "### 1.Most houses are aged between 18-37 years.\n",
    "### 2.Most building blocks has rooms between 1448-3148 room.\n",
    "### 3.Most building blocks has bed rooms between 336-977 room.\n",
    "### 4.Most building blocks has population between 787-1725 people.\n",
    "### 5.Most building blocks has households between 313-538 people.\n",
    "### 6.Most people has income between 2138.050- 4583.300 pounds.\n",
    "### 7.Most houses cost between 119600-264725 pounds ."
   ]
  },
  {
   "cell_type": "code",
   "execution_count": 14,
   "id": "d11bf4bb",
   "metadata": {
    "execution": {
     "iopub.execute_input": "2021-11-13T13:04:56.140091Z",
     "iopub.status.busy": "2021-11-13T13:04:56.139020Z",
     "iopub.status.idle": "2021-11-13T13:04:56.145428Z",
     "shell.execute_reply": "2021-11-13T13:04:56.146007Z",
     "shell.execute_reply.started": "2021-11-13T13:04:19.497010Z"
    },
    "papermill": {
     "duration": 0.091957,
     "end_time": "2021-11-13T13:04:56.146203",
     "exception": false,
     "start_time": "2021-11-13T13:04:56.054246",
     "status": "completed"
    },
    "tags": []
   },
   "outputs": [],
   "source": [
    "# replace \"no\" to nan:\n",
    "data['households'].replace(\"no\", np.nan , inplace=True)"
   ]
  },
  {
   "cell_type": "code",
   "execution_count": 15,
   "id": "16ea909f",
   "metadata": {
    "execution": {
     "iopub.execute_input": "2021-11-13T13:04:56.315629Z",
     "iopub.status.busy": "2021-11-13T13:04:56.314657Z",
     "iopub.status.idle": "2021-11-13T13:04:56.322720Z",
     "shell.execute_reply": "2021-11-13T13:04:56.323222Z",
     "shell.execute_reply.started": "2021-11-13T13:04:19.503532Z"
    },
    "papermill": {
     "duration": 0.093975,
     "end_time": "2021-11-13T13:04:56.323423",
     "exception": false,
     "start_time": "2021-11-13T13:04:56.229448",
     "status": "completed"
    },
    "tags": []
   },
   "outputs": [],
   "source": [
    "# \"households\" should be converted into numeric value..\n",
    "data[\"households\"]=data[\"households\"].astype('float64')"
   ]
  },
  {
   "cell_type": "code",
   "execution_count": 16,
   "id": "b7b8cad7",
   "metadata": {
    "execution": {
     "iopub.execute_input": "2021-11-13T13:04:56.491936Z",
     "iopub.status.busy": "2021-11-13T13:04:56.490935Z",
     "iopub.status.idle": "2021-11-13T13:04:56.874558Z",
     "shell.execute_reply": "2021-11-13T13:04:56.873816Z",
     "shell.execute_reply.started": "2021-11-13T13:04:19.520880Z"
    },
    "papermill": {
     "duration": 0.468834,
     "end_time": "2021-11-13T13:04:56.874703",
     "exception": false,
     "start_time": "2021-11-13T13:04:56.405869",
     "status": "completed"
    },
    "tags": []
   },
   "outputs": [
    {
     "data": {
      "text/plain": [
       "<seaborn.axisgrid.FacetGrid at 0x7f6a8c953c50>"
      ]
     },
     "execution_count": 16,
     "metadata": {},
     "output_type": "execute_result"
    },
    {
     "data": {
      "image/png": "[encoded data removed]",
      "text/plain": [
       "<Figure size 360x360 with 1 Axes>"
      ]
     },
     "metadata": {
      "needs_background": "light"
     },
     "output_type": "display_data"
    }
   ],
   "source": [
    "sns.relplot(x=\"total_rooms\", y=\"households\", data=data)"
   ]
  },
  {
   "cell_type": "code",
   "execution_count": 17,
   "id": "49ef8aa1",
   "metadata": {
    "execution": {
     "iopub.execute_input": "2021-11-13T13:04:57.050945Z",
     "iopub.status.busy": "2021-11-13T13:04:57.050216Z",
     "iopub.status.idle": "2021-11-13T13:04:57.440638Z",
     "shell.execute_reply": "2021-11-13T13:04:57.441189Z",
     "shell.execute_reply.started": "2021-11-13T13:04:19.940119Z"
    },
    "papermill": {
     "duration": 0.480926,
     "end_time": "2021-11-13T13:04:57.441389",
     "exception": false,
     "start_time": "2021-11-13T13:04:56.960463",
     "status": "completed"
    },
    "tags": []
   },
   "outputs": [
    {
     "data": {
      "text/plain": [
       "<seaborn.axisgrid.FacetGrid at 0x7f6a87703b10>"
      ]
     },
     "execution_count": 17,
     "metadata": {},
     "output_type": "execute_result"
    },
    {
     "data": {
      "image/png": "[encoded data removed]",
      "text/plain": [
       "<Figure size 360x360 with 1 Axes>"
      ]
     },
     "metadata": {
      "needs_background": "light"
     },
     "output_type": "display_data"
    }
   ],
   "source": [
    "sns.relplot(x=\"total_rooms\", y=\"population\", data=data)"
   ]
  },
  {
   "cell_type": "markdown",
   "id": "3c9a19a1",
   "metadata": {
    "papermill": {
     "duration": 0.087667,
     "end_time": "2021-11-13T13:04:57.615909",
     "exception": false,
     "start_time": "2021-11-13T13:04:57.528242",
     "status": "completed"
    },
    "tags": []
   },
   "source": [
    "### as the number of rooms in a building block increase the population and households increase."
   ]
  },
  {
   "cell_type": "markdown",
   "id": "50984faf",
   "metadata": {
    "papermill": {
     "duration": 0.08685,
     "end_time": "2021-11-13T13:04:57.789339",
     "exception": false,
     "start_time": "2021-11-13T13:04:57.702489",
     "status": "completed"
    },
    "tags": []
   },
   "source": [
    "# Data Preprocessing"
   ]
  },
  {
   "cell_type": "markdown",
   "id": "ca4774db",
   "metadata": {
    "papermill": {
     "duration": 0.085245,
     "end_time": "2021-11-13T13:04:57.961129",
     "exception": false,
     "start_time": "2021-11-13T13:04:57.875884",
     "status": "completed"
    },
    "tags": []
   },
   "source": [
    "#### 1-Fill missing values"
   ]
  },
  {
   "cell_type": "markdown",
   "id": "5fccf6d0",
   "metadata": {
    "papermill": {
     "duration": 0.086458,
     "end_time": "2021-11-13T13:04:58.133163",
     "exception": false,
     "start_time": "2021-11-13T13:04:58.046705",
     "status": "completed"
    },
    "tags": []
   },
   "source": [
    "#### In households there are \"no\" value ...>>which should be null value"
   ]
  },
  {
   "cell_type": "code",
   "execution_count": 18,
   "id": "cdf69477",
   "metadata": {
    "execution": {
     "iopub.execute_input": "2021-11-13T13:04:58.310653Z",
     "iopub.status.busy": "2021-11-13T13:04:58.309900Z",
     "iopub.status.idle": "2021-11-13T13:04:58.312683Z",
     "shell.execute_reply": "2021-11-13T13:04:58.312151Z",
     "shell.execute_reply.started": "2021-11-13T13:04:20.371379Z"
    },
    "papermill": {
     "duration": 0.092715,
     "end_time": "2021-11-13T13:04:58.312831",
     "exception": false,
     "start_time": "2021-11-13T13:04:58.220116",
     "status": "completed"
    },
    "tags": []
   },
   "outputs": [],
   "source": [
    " # check whether there are another value express nan in  \"ocean_proximity\" or \"gender\".."
   ]
  },
  {
   "cell_type": "code",
   "execution_count": 19,
   "id": "67aca607",
   "metadata": {
    "execution": {
     "iopub.execute_input": "2021-11-13T13:04:58.488654Z",
     "iopub.status.busy": "2021-11-13T13:04:58.488007Z",
     "iopub.status.idle": "2021-11-13T13:04:58.496995Z",
     "shell.execute_reply": "2021-11-13T13:04:58.497520Z",
     "shell.execute_reply.started": "2021-11-13T13:04:20.375470Z"
    },
    "papermill": {
     "duration": 0.098452,
     "end_time": "2021-11-13T13:04:58.497695",
     "exception": false,
     "start_time": "2021-11-13T13:04:58.399243",
     "status": "completed"
    },
    "tags": []
   },
   "outputs": [
    {
     "data": {
      "text/plain": [
       "<1H OCEAN     9136\n",
       "INLAND        6551\n",
       "NEAR OCEAN    2658\n",
       "NEAR BAY      2290\n",
       "ISLAND           5\n",
       "Name: ocean_proximity, dtype: int64"
      ]
     },
     "execution_count": 19,
     "metadata": {},
     "output_type": "execute_result"
    }
   ],
   "source": [
    "data[\"ocean_proximity\"].value_counts()"
   ]
  },
  {
   "cell_type": "code",
   "execution_count": 20,
   "id": "ecafcacb",
   "metadata": {
    "execution": {
     "iopub.execute_input": "2021-11-13T13:04:58.675648Z",
     "iopub.status.busy": "2021-11-13T13:04:58.674899Z",
     "iopub.status.idle": "2021-11-13T13:04:58.683742Z",
     "shell.execute_reply": "2021-11-13T13:04:58.684234Z",
     "shell.execute_reply.started": "2021-11-13T13:04:20.395124Z"
    },
    "papermill": {
     "duration": 0.09938,
     "end_time": "2021-11-13T13:04:58.684458",
     "exception": false,
     "start_time": "2021-11-13T13:04:58.585078",
     "status": "completed"
    },
    "tags": []
   },
   "outputs": [
    {
     "data": {
      "text/plain": [
       "female    8673\n",
       "male      7947\n",
       "Name: gender, dtype: int64"
      ]
     },
     "execution_count": 20,
     "metadata": {},
     "output_type": "execute_result"
    }
   ],
   "source": [
    "data[\"gender\"].value_counts()"
   ]
  },
  {
   "cell_type": "code",
   "execution_count": 21,
   "id": "e9d1a952",
   "metadata": {
    "execution": {
     "iopub.execute_input": "2021-11-13T13:04:58.863023Z",
     "iopub.status.busy": "2021-11-13T13:04:58.862329Z",
     "iopub.status.idle": "2021-11-13T13:04:58.864890Z",
     "shell.execute_reply": "2021-11-13T13:04:58.865379Z",
     "shell.execute_reply.started": "2021-11-13T13:04:20.411162Z"
    },
    "papermill": {
     "duration": 0.092478,
     "end_time": "2021-11-13T13:04:58.865558",
     "exception": false,
     "start_time": "2021-11-13T13:04:58.773080",
     "status": "completed"
    },
    "tags": []
   },
   "outputs": [],
   "source": [
    "# there aren't \"no\" value express nan .."
   ]
  },
  {
   "cell_type": "code",
   "execution_count": 22,
   "id": "fb238bba",
   "metadata": {
    "execution": {
     "iopub.execute_input": "2021-11-13T13:04:59.043518Z",
     "iopub.status.busy": "2021-11-13T13:04:59.042745Z",
     "iopub.status.idle": "2021-11-13T13:04:59.059325Z",
     "shell.execute_reply": "2021-11-13T13:04:59.059812Z",
     "shell.execute_reply.started": "2021-11-13T13:04:20.420203Z"
    },
    "papermill": {
     "duration": 0.107325,
     "end_time": "2021-11-13T13:04:59.060023",
     "exception": false,
     "start_time": "2021-11-13T13:04:58.952698",
     "status": "completed"
    },
    "tags": []
   },
   "outputs": [
    {
     "name": "stdout",
     "output_type": "stream",
     "text": [
      "<class 'pandas.core.frame.DataFrame'>\n",
      "RangeIndex: 20640 entries, 0 to 20639\n",
      "Data columns (total 11 columns):\n",
      " #   Column              Non-Null Count  Dtype  \n",
      "---  ------              --------------  -----  \n",
      " 0   longitude           20640 non-null  float64\n",
      " 1   latitude            20640 non-null  float64\n",
      " 2   housing_median_age  20382 non-null  float64\n",
      " 3   total_rooms         20640 non-null  int64  \n",
      " 4   total_bedrooms      15758 non-null  float64\n",
      " 5   population          20596 non-null  float64\n",
      " 6   households          16255 non-null  float64\n",
      " 7   median_income       17873 non-null  float64\n",
      " 8   median_house_value  20640 non-null  int64  \n",
      " 9   ocean_proximity     20640 non-null  object \n",
      " 10  gender              16620 non-null  object \n",
      "dtypes: float64(7), int64(2), object(2)\n",
      "memory usage: 1.7+ MB\n"
     ]
    }
   ],
   "source": [
    "data.info()"
   ]
  },
  {
   "cell_type": "code",
   "execution_count": 23,
   "id": "b7ce188b",
   "metadata": {
    "execution": {
     "iopub.execute_input": "2021-11-13T13:04:59.237039Z",
     "iopub.status.busy": "2021-11-13T13:04:59.236302Z",
     "iopub.status.idle": "2021-11-13T13:04:59.253566Z",
     "shell.execute_reply": "2021-11-13T13:04:59.252941Z",
     "shell.execute_reply.started": "2021-11-13T13:04:20.444237Z"
    },
    "papermill": {
     "duration": 0.107017,
     "end_time": "2021-11-13T13:04:59.253718",
     "exception": false,
     "start_time": "2021-11-13T13:04:59.146701",
     "status": "completed"
    },
    "tags": []
   },
   "outputs": [
    {
     "name": "stdout",
     "output_type": "stream",
     "text": [
      "<class 'pandas.core.frame.DataFrame'>\n",
      "RangeIndex: 20640 entries, 0 to 20639\n",
      "Data columns (total 11 columns):\n",
      " #   Column              Non-Null Count  Dtype  \n",
      "---  ------              --------------  -----  \n",
      " 0   longitude           20640 non-null  float64\n",
      " 1   latitude            20640 non-null  float64\n",
      " 2   housing_median_age  20382 non-null  float64\n",
      " 3   total_rooms         20640 non-null  int64  \n",
      " 4   total_bedrooms      15758 non-null  float64\n",
      " 5   population          20596 non-null  float64\n",
      " 6   households          16255 non-null  float64\n",
      " 7   median_income       17873 non-null  float64\n",
      " 8   median_house_value  20640 non-null  int64  \n",
      " 9   ocean_proximity     20640 non-null  object \n",
      " 10  gender              16620 non-null  object \n",
      "dtypes: float64(7), int64(2), object(2)\n",
      "memory usage: 1.7+ MB\n"
     ]
    }
   ],
   "source": [
    "data.info()"
   ]
  },
  {
   "cell_type": "code",
   "execution_count": 24,
   "id": "62230b6f",
   "metadata": {
    "execution": {
     "iopub.execute_input": "2021-11-13T13:04:59.444791Z",
     "iopub.status.busy": "2021-11-13T13:04:59.437510Z",
     "iopub.status.idle": "2021-11-13T13:04:59.452854Z",
     "shell.execute_reply": "2021-11-13T13:04:59.452301Z",
     "shell.execute_reply.started": "2021-11-13T13:04:20.461935Z"
    },
    "papermill": {
     "duration": 0.108599,
     "end_time": "2021-11-13T13:04:59.453033",
     "exception": false,
     "start_time": "2021-11-13T13:04:59.344434",
     "status": "completed"
    },
    "tags": []
   },
   "outputs": [
    {
     "data": {
      "text/plain": [
       "longitude                0\n",
       "latitude                 0\n",
       "housing_median_age     258\n",
       "total_rooms              0\n",
       "total_bedrooms        4882\n",
       "population              44\n",
       "households            4385\n",
       "median_income         2767\n",
       "median_house_value       0\n",
       "ocean_proximity          0\n",
       "gender                4020\n",
       "dtype: int64"
      ]
     },
     "execution_count": 24,
     "metadata": {},
     "output_type": "execute_result"
    }
   ],
   "source": [
    "missing = data.isnull().sum()\n",
    "missing"
   ]
  },
  {
   "cell_type": "code",
   "execution_count": 25,
   "id": "67f3b0c3",
   "metadata": {
    "execution": {
     "iopub.execute_input": "2021-11-13T13:04:59.666853Z",
     "iopub.status.busy": "2021-11-13T13:04:59.639882Z",
     "iopub.status.idle": "2021-11-13T13:04:59.904648Z",
     "shell.execute_reply": "2021-11-13T13:04:59.903960Z",
     "shell.execute_reply.started": "2021-11-13T13:04:20.478210Z"
    },
    "papermill": {
     "duration": 0.362754,
     "end_time": "2021-11-13T13:04:59.904798",
     "exception": false,
     "start_time": "2021-11-13T13:04:59.542044",
     "status": "completed"
    },
    "scrolled": true,
    "tags": []
   },
   "outputs": [
    {
     "data": {
      "text/plain": [
       "<AxesSubplot:>"
      ]
     },
     "execution_count": 25,
     "metadata": {},
     "output_type": "execute_result"
    },
    {
     "data": {
      "image/png": "[encoded data removed]",
      "text/plain": [
       "<Figure size 1440x720 with 1 Axes>"
      ]
     },
     "metadata": {
      "needs_background": "light"
     },
     "output_type": "display_data"
    }
   ],
   "source": [
    "missing = missing[missing>0]\n",
    "missing.sort_values(inplace=True)\n",
    "plt.figure(figsize=(20,10))\n",
    "missing.plot.bar()"
   ]
  },
  {
   "cell_type": "code",
   "execution_count": 26,
   "id": "ec3bf498",
   "metadata": {
    "execution": {
     "iopub.execute_input": "2021-11-13T13:05:00.094567Z",
     "iopub.status.busy": "2021-11-13T13:05:00.089491Z",
     "iopub.status.idle": "2021-11-13T13:05:00.101263Z",
     "shell.execute_reply": "2021-11-13T13:05:00.101736Z",
     "shell.execute_reply.started": "2021-11-13T13:04:20.739815Z"
    },
    "papermill": {
     "duration": 0.106772,
     "end_time": "2021-11-13T13:05:00.101915",
     "exception": false,
     "start_time": "2021-11-13T13:04:59.995143",
     "status": "completed"
    },
    "tags": []
   },
   "outputs": [
    {
     "data": {
      "text/plain": [
       "longitude                0\n",
       "latitude                 0\n",
       "housing_median_age     258\n",
       "total_rooms              0\n",
       "total_bedrooms        4882\n",
       "population              44\n",
       "households            4385\n",
       "median_income         2767\n",
       "median_house_value       0\n",
       "ocean_proximity          0\n",
       "gender                4020\n",
       "dtype: int64"
      ]
     },
     "execution_count": 26,
     "metadata": {},
     "output_type": "execute_result"
    }
   ],
   "source": [
    "data.isnull().sum()"
   ]
  },
  {
   "cell_type": "code",
   "execution_count": 27,
   "id": "76511605",
   "metadata": {
    "execution": {
     "iopub.execute_input": "2021-11-13T13:05:00.284749Z",
     "iopub.status.busy": "2021-11-13T13:05:00.283731Z",
     "iopub.status.idle": "2021-11-13T13:05:00.286683Z",
     "shell.execute_reply": "2021-11-13T13:05:00.286166Z",
     "shell.execute_reply.started": "2021-11-13T13:04:20.760611Z"
    },
    "papermill": {
     "duration": 0.096214,
     "end_time": "2021-11-13T13:05:00.286830",
     "exception": false,
     "start_time": "2021-11-13T13:05:00.190616",
     "status": "completed"
    },
    "tags": []
   },
   "outputs": [],
   "source": [
    "# Now , the num of null values in [\"total_bedrooms\",\"households\",\"median_income\",\"gender\"] are big so we can't drop it \n",
    "# we will work to fill it .."
   ]
  },
  {
   "cell_type": "code",
   "execution_count": 28,
   "id": "b1642bd0",
   "metadata": {
    "execution": {
     "iopub.execute_input": "2021-11-13T13:05:00.468419Z",
     "iopub.status.busy": "2021-11-13T13:05:00.467453Z",
     "iopub.status.idle": "2021-11-13T13:05:00.480475Z",
     "shell.execute_reply": "2021-11-13T13:05:00.481054Z",
     "shell.execute_reply.started": "2021-11-13T13:04:20.766121Z"
    },
    "papermill": {
     "duration": 0.105677,
     "end_time": "2021-11-13T13:05:00.481269",
     "exception": false,
     "start_time": "2021-11-13T13:05:00.375592",
     "status": "completed"
    },
    "tags": []
   },
   "outputs": [],
   "source": [
    "fill_list = ['female' , \"male\"]\n",
    "data['gender'] = data['gender'].fillna(pd.Series(np.random.choice(fill_list , size = len(data.index))))"
   ]
  },
  {
   "cell_type": "code",
   "execution_count": 29,
   "id": "379398ac",
   "metadata": {
    "execution": {
     "iopub.execute_input": "2021-11-13T13:05:00.696217Z",
     "iopub.status.busy": "2021-11-13T13:05:00.695201Z",
     "iopub.status.idle": "2021-11-13T13:05:00.841085Z",
     "shell.execute_reply": "2021-11-13T13:05:00.841633Z",
     "shell.execute_reply.started": "2021-11-13T13:04:20.785727Z"
    },
    "papermill": {
     "duration": 0.255908,
     "end_time": "2021-11-13T13:05:00.841816",
     "exception": false,
     "start_time": "2021-11-13T13:05:00.585908",
     "status": "completed"
    },
    "tags": []
   },
   "outputs": [],
   "source": [
    "# label encoding to \"ocean_proximity\" and \"gender\" features..\n",
    "from sklearn.preprocessing import LabelEncoder\n",
    "le = LabelEncoder()\n"
   ]
  },
  {
   "cell_type": "code",
   "execution_count": 30,
   "id": "410d034f",
   "metadata": {
    "execution": {
     "iopub.execute_input": "2021-11-13T13:05:01.035687Z",
     "iopub.status.busy": "2021-11-13T13:05:01.034816Z",
     "iopub.status.idle": "2021-11-13T13:05:01.037925Z",
     "shell.execute_reply": "2021-11-13T13:05:01.037395Z",
     "shell.execute_reply.started": "2021-11-13T13:04:20.792403Z"
    },
    "papermill": {
     "duration": 0.106412,
     "end_time": "2021-11-13T13:05:01.038099",
     "exception": false,
     "start_time": "2021-11-13T13:05:00.931687",
     "status": "completed"
    },
    "tags": []
   },
   "outputs": [],
   "source": [
    "data[\"ocean_proximity\"]=le.fit_transform(data[\"ocean_proximity\"])"
   ]
  },
  {
   "cell_type": "code",
   "execution_count": 31,
   "id": "ee2b6271",
   "metadata": {
    "execution": {
     "iopub.execute_input": "2021-11-13T13:05:01.223124Z",
     "iopub.status.busy": "2021-11-13T13:05:01.222098Z",
     "iopub.status.idle": "2021-11-13T13:05:01.225952Z",
     "shell.execute_reply": "2021-11-13T13:05:01.225447Z",
     "shell.execute_reply.started": "2021-11-13T13:04:20.814959Z"
    },
    "papermill": {
     "duration": 0.099305,
     "end_time": "2021-11-13T13:05:01.226113",
     "exception": false,
     "start_time": "2021-11-13T13:05:01.126808",
     "status": "completed"
    },
    "tags": []
   },
   "outputs": [
    {
     "data": {
      "text/plain": [
       "0    9136\n",
       "1    6551\n",
       "4    2658\n",
       "3    2290\n",
       "2       5\n",
       "Name: ocean_proximity, dtype: int64"
      ]
     },
     "execution_count": 31,
     "metadata": {},
     "output_type": "execute_result"
    }
   ],
   "source": [
    "data[\"ocean_proximity\"].value_counts()"
   ]
  },
  {
   "cell_type": "code",
   "execution_count": 32,
   "id": "9f69e983",
   "metadata": {
    "execution": {
     "iopub.execute_input": "2021-11-13T13:05:01.418007Z",
     "iopub.status.busy": "2021-11-13T13:05:01.417311Z",
     "iopub.status.idle": "2021-11-13T13:05:01.420033Z",
     "shell.execute_reply": "2021-11-13T13:05:01.420641Z",
     "shell.execute_reply.started": "2021-11-13T13:04:20.831615Z"
    },
    "papermill": {
     "duration": 0.105718,
     "end_time": "2021-11-13T13:05:01.420823",
     "exception": false,
     "start_time": "2021-11-13T13:05:01.315105",
     "status": "completed"
    },
    "tags": []
   },
   "outputs": [],
   "source": [
    "data[\"gender\"]=le.fit_transform(data[\"gender\"])"
   ]
  },
  {
   "cell_type": "code",
   "execution_count": 33,
   "id": "8dd97d34",
   "metadata": {
    "execution": {
     "iopub.execute_input": "2021-11-13T13:05:01.608362Z",
     "iopub.status.busy": "2021-11-13T13:05:01.607497Z",
     "iopub.status.idle": "2021-11-13T13:05:01.611413Z",
     "shell.execute_reply": "2021-11-13T13:05:01.610851Z",
     "shell.execute_reply.started": "2021-11-13T13:04:20.848454Z"
    },
    "papermill": {
     "duration": 0.100473,
     "end_time": "2021-11-13T13:05:01.611562",
     "exception": false,
     "start_time": "2021-11-13T13:05:01.511089",
     "status": "completed"
    },
    "tags": []
   },
   "outputs": [
    {
     "data": {
      "text/plain": [
       "0    10670\n",
       "1     9970\n",
       "Name: gender, dtype: int64"
      ]
     },
     "execution_count": 33,
     "metadata": {},
     "output_type": "execute_result"
    }
   ],
   "source": [
    "data[\"gender\"].value_counts()"
   ]
  },
  {
   "cell_type": "code",
   "execution_count": 34,
   "id": "8980cb12",
   "metadata": {
    "execution": {
     "iopub.execute_input": "2021-11-13T13:05:01.797814Z",
     "iopub.status.busy": "2021-11-13T13:05:01.796801Z",
     "iopub.status.idle": "2021-11-13T13:05:01.809596Z",
     "shell.execute_reply": "2021-11-13T13:05:01.810147Z",
     "shell.execute_reply.started": "2021-11-13T13:04:20.864247Z"
    },
    "papermill": {
     "duration": 0.107412,
     "end_time": "2021-11-13T13:05:01.810329",
     "exception": false,
     "start_time": "2021-11-13T13:05:01.702917",
     "status": "completed"
    },
    "tags": []
   },
   "outputs": [
    {
     "name": "stdout",
     "output_type": "stream",
     "text": [
      "<class 'pandas.core.frame.DataFrame'>\n",
      "RangeIndex: 20640 entries, 0 to 20639\n",
      "Data columns (total 11 columns):\n",
      " #   Column              Non-Null Count  Dtype  \n",
      "---  ------              --------------  -----  \n",
      " 0   longitude           20640 non-null  float64\n",
      " 1   latitude            20640 non-null  float64\n",
      " 2   housing_median_age  20382 non-null  float64\n",
      " 3   total_rooms         20640 non-null  int64  \n",
      " 4   total_bedrooms      15758 non-null  float64\n",
      " 5   population          20596 non-null  float64\n",
      " 6   households          16255 non-null  float64\n",
      " 7   median_income       17873 non-null  float64\n",
      " 8   median_house_value  20640 non-null  int64  \n",
      " 9   ocean_proximity     20640 non-null  int64  \n",
      " 10  gender              20640 non-null  int64  \n",
      "dtypes: float64(7), int64(4)\n",
      "memory usage: 1.7 MB\n"
     ]
    }
   ],
   "source": [
    "data.info()"
   ]
  },
  {
   "cell_type": "code",
   "execution_count": 35,
   "id": "7dc8118e",
   "metadata": {
    "execution": {
     "iopub.execute_input": "2021-11-13T13:05:02.000906Z",
     "iopub.status.busy": "2021-11-13T13:05:01.999992Z",
     "iopub.status.idle": "2021-11-13T13:05:02.003495Z",
     "shell.execute_reply": "2021-11-13T13:05:02.004160Z",
     "shell.execute_reply.started": "2021-11-13T13:04:20.888232Z"
    },
    "papermill": {
     "duration": 0.102643,
     "end_time": "2021-11-13T13:05:02.004403",
     "exception": false,
     "start_time": "2021-11-13T13:05:01.901760",
     "status": "completed"
    },
    "tags": []
   },
   "outputs": [
    {
     "data": {
      "text/plain": [
       "Index(['longitude', 'latitude', 'housing_median_age', 'total_rooms',\n",
       "       'total_bedrooms', 'population', 'households', 'median_income',\n",
       "       'median_house_value', 'ocean_proximity', 'gender'],\n",
       "      dtype='object')"
      ]
     },
     "execution_count": 35,
     "metadata": {},
     "output_type": "execute_result"
    }
   ],
   "source": [
    "data.columns"
   ]
  },
  {
   "cell_type": "code",
   "execution_count": 36,
   "id": "e70a3299",
   "metadata": {
    "execution": {
     "iopub.execute_input": "2021-11-13T13:05:02.197155Z",
     "iopub.status.busy": "2021-11-13T13:05:02.196151Z",
     "iopub.status.idle": "2021-11-13T13:05:02.207929Z",
     "shell.execute_reply": "2021-11-13T13:05:02.208490Z",
     "shell.execute_reply.started": "2021-11-13T13:04:20.895439Z"
    },
    "papermill": {
     "duration": 0.109325,
     "end_time": "2021-11-13T13:05:02.208670",
     "exception": false,
     "start_time": "2021-11-13T13:05:02.099345",
     "status": "completed"
    },
    "tags": []
   },
   "outputs": [],
   "source": [
    "data = data.ffill().add(data.bfill()).div(2)"
   ]
  },
  {
   "cell_type": "code",
   "execution_count": 37,
   "id": "3ca8a143",
   "metadata": {
    "execution": {
     "iopub.execute_input": "2021-11-13T13:05:02.404209Z",
     "iopub.status.busy": "2021-11-13T13:05:02.402781Z",
     "iopub.status.idle": "2021-11-13T13:05:02.410522Z",
     "shell.execute_reply": "2021-11-13T13:05:02.409927Z",
     "shell.execute_reply.started": "2021-11-13T13:04:20.918814Z"
    },
    "papermill": {
     "duration": 0.108218,
     "end_time": "2021-11-13T13:05:02.410679",
     "exception": false,
     "start_time": "2021-11-13T13:05:02.302461",
     "status": "completed"
    },
    "tags": []
   },
   "outputs": [
    {
     "data": {
      "text/plain": [
       "longitude             0\n",
       "latitude              0\n",
       "housing_median_age    0\n",
       "total_rooms           0\n",
       "total_bedrooms        0\n",
       "population            0\n",
       "households            0\n",
       "median_income         0\n",
       "median_house_value    0\n",
       "ocean_proximity       0\n",
       "gender                0\n",
       "dtype: int64"
      ]
     },
     "execution_count": 37,
     "metadata": {},
     "output_type": "execute_result"
    }
   ],
   "source": [
    "data.isnull().sum()"
   ]
  },
  {
   "cell_type": "code",
   "execution_count": 38,
   "id": "26e16771",
   "metadata": {
    "execution": {
     "iopub.execute_input": "2021-11-13T13:05:02.601596Z",
     "iopub.status.busy": "2021-11-13T13:05:02.600737Z",
     "iopub.status.idle": "2021-11-13T13:05:02.602575Z",
     "shell.execute_reply": "2021-11-13T13:05:02.603113Z",
     "shell.execute_reply.started": "2021-11-13T13:04:20.932006Z"
    },
    "papermill": {
     "duration": 0.099498,
     "end_time": "2021-11-13T13:05:02.603292",
     "exception": false,
     "start_time": "2021-11-13T13:05:02.503794",
     "status": "completed"
    },
    "tags": []
   },
   "outputs": [],
   "source": [
    "#Now, no null value.."
   ]
  },
  {
   "cell_type": "code",
   "execution_count": null,
   "id": "db979bde",
   "metadata": {
    "papermill": {
     "duration": 0.093222,
     "end_time": "2021-11-13T13:05:02.788372",
     "exception": false,
     "start_time": "2021-11-13T13:05:02.695150",
     "status": "completed"
    },
    "tags": []
   },
   "outputs": [],
   "source": []
  },
  {
   "cell_type": "markdown",
   "id": "71163067",
   "metadata": {
    "papermill": {
     "duration": 0.090822,
     "end_time": "2021-11-13T13:05:02.969538",
     "exception": false,
     "start_time": "2021-11-13T13:05:02.878716",
     "status": "completed"
    },
    "tags": []
   },
   "source": [
    "### 2-Removing outliers"
   ]
  },
  {
   "cell_type": "code",
   "execution_count": 39,
   "id": "5bcdb205",
   "metadata": {
    "execution": {
     "iopub.execute_input": "2021-11-13T13:05:03.154729Z",
     "iopub.status.busy": "2021-11-13T13:05:03.153950Z",
     "iopub.status.idle": "2021-11-13T13:05:04.547083Z",
     "shell.execute_reply": "2021-11-13T13:05:04.547563Z",
     "shell.execute_reply.started": "2021-11-13T13:04:20.940053Z"
    },
    "papermill": {
     "duration": 1.487538,
     "end_time": "2021-11-13T13:05:04.547746",
     "exception": false,
     "start_time": "2021-11-13T13:05:03.060208",
     "status": "completed"
    },
    "tags": []
   },
   "outputs": [
    {
     "data": {
      "image/png": "[encoded data removed]",
      "text/plain": [
       "<Figure size 1296x1080 with 12 Axes>"
      ]
     },
     "metadata": {
      "needs_background": "light"
     },
     "output_type": "display_data"
    }
   ],
   "source": [
    "data.plot(kind = \"box\" , subplots = True , figsize = (18,15) ,  layout = (3,4))\n",
    "plt.show()"
   ]
  },
  {
   "cell_type": "code",
   "execution_count": 40,
   "id": "9609a3fe",
   "metadata": {
    "execution": {
     "iopub.execute_input": "2021-11-13T13:05:04.739434Z",
     "iopub.status.busy": "2021-11-13T13:05:04.738744Z",
     "iopub.status.idle": "2021-11-13T13:05:05.622599Z",
     "shell.execute_reply": "2021-11-13T13:05:05.622023Z",
     "shell.execute_reply.started": "2021-11-13T13:04:22.346911Z"
    },
    "papermill": {
     "duration": 0.982205,
     "end_time": "2021-11-13T13:05:05.622757",
     "exception": false,
     "start_time": "2021-11-13T13:05:04.640552",
     "status": "completed"
    },
    "tags": []
   },
   "outputs": [
    {
     "data": {
      "text/plain": [
       "<AxesSubplot:>"
      ]
     },
     "execution_count": 40,
     "metadata": {},
     "output_type": "execute_result"
    },
    {
     "data": {
      "image/png": "[encoded data removed]",
      "text/plain": [
       "<Figure size 864x720 with 1 Axes>"
      ]
     },
     "metadata": {
      "needs_background": "light"
     },
     "output_type": "display_data"
    }
   ],
   "source": [
    "plt.figure(figsize=(12,10))\n",
    "data.boxplot(rot=45)"
   ]
  },
  {
   "cell_type": "code",
   "execution_count": 41,
   "id": "f2450901",
   "metadata": {
    "execution": {
     "iopub.execute_input": "2021-11-13T13:05:05.817032Z",
     "iopub.status.busy": "2021-11-13T13:05:05.816336Z",
     "iopub.status.idle": "2021-11-13T13:05:05.820945Z",
     "shell.execute_reply": "2021-11-13T13:05:05.821525Z",
     "shell.execute_reply.started": "2021-11-13T13:04:23.270699Z"
    },
    "papermill": {
     "duration": 0.103974,
     "end_time": "2021-11-13T13:05:05.821726",
     "exception": false,
     "start_time": "2021-11-13T13:05:05.717752",
     "status": "completed"
    },
    "tags": []
   },
   "outputs": [],
   "source": [
    "#Define a function to determine outlier boundaries\n",
    "\n",
    "def outlier_limits(col):\n",
    "    Q3,Q1=np.nanpercentile(col,[75,25])\n",
    "    IQR=Q3-Q1\n",
    "    UL=Q3+1.5*IQR\n",
    "    LL=Q1-1.5*IQR\n",
    "    return UL, LL"
   ]
  },
  {
   "cell_type": "code",
   "execution_count": 42,
   "id": "084d9c4e",
   "metadata": {
    "execution": {
     "iopub.execute_input": "2021-11-13T13:05:06.013887Z",
     "iopub.status.busy": "2021-11-13T13:05:06.013264Z",
     "iopub.status.idle": "2021-11-13T13:05:06.031387Z",
     "shell.execute_reply": "2021-11-13T13:05:06.031934Z",
     "shell.execute_reply.started": "2021-11-13T13:04:23.276921Z"
    },
    "papermill": {
     "duration": 0.115099,
     "end_time": "2021-11-13T13:05:06.032140",
     "exception": false,
     "start_time": "2021-11-13T13:05:05.917041",
     "status": "completed"
    },
    "tags": []
   },
   "outputs": [],
   "source": [
    "for column in data.columns:\n",
    "    if data[column].dtype != 'object':\n",
    "        UL, LL = outlier_limits(data[column])\n",
    "        data[column] = np.where((data[column] > UL) ,UL , np.where((data[column] < LL),LL, data[column]))\n"
   ]
  },
  {
   "cell_type": "code",
   "execution_count": 43,
   "id": "410998fe",
   "metadata": {
    "execution": {
     "iopub.execute_input": "2021-11-13T13:05:06.225932Z",
     "iopub.status.busy": "2021-11-13T13:05:06.225175Z",
     "iopub.status.idle": "2021-11-13T13:05:06.235262Z",
     "shell.execute_reply": "2021-11-13T13:05:06.235775Z",
     "shell.execute_reply.started": "2021-11-13T13:04:23.307472Z"
    },
    "papermill": {
     "duration": 0.109844,
     "end_time": "2021-11-13T13:05:06.235984",
     "exception": false,
     "start_time": "2021-11-13T13:05:06.126140",
     "status": "completed"
    },
    "tags": []
   },
   "outputs": [
    {
     "name": "stdout",
     "output_type": "stream",
     "text": [
      "<class 'pandas.core.frame.DataFrame'>\n",
      "RangeIndex: 20640 entries, 0 to 20639\n",
      "Data columns (total 11 columns):\n",
      " #   Column              Non-Null Count  Dtype  \n",
      "---  ------              --------------  -----  \n",
      " 0   longitude           20640 non-null  float64\n",
      " 1   latitude            20640 non-null  float64\n",
      " 2   housing_median_age  20640 non-null  float64\n",
      " 3   total_rooms         20640 non-null  float64\n",
      " 4   total_bedrooms      20640 non-null  float64\n",
      " 5   population          20640 non-null  float64\n",
      " 6   households          20640 non-null  float64\n",
      " 7   median_income       20640 non-null  float64\n",
      " 8   median_house_value  20640 non-null  float64\n",
      " 9   ocean_proximity     20640 non-null  float64\n",
      " 10  gender              20640 non-null  float64\n",
      "dtypes: float64(11)\n",
      "memory usage: 1.7 MB\n"
     ]
    }
   ],
   "source": [
    "data.info()"
   ]
  },
  {
   "cell_type": "code",
   "execution_count": 44,
   "id": "a3c868c5",
   "metadata": {
    "execution": {
     "iopub.execute_input": "2021-11-13T13:05:06.429357Z",
     "iopub.status.busy": "2021-11-13T13:05:06.428635Z",
     "iopub.status.idle": "2021-11-13T13:05:06.437167Z",
     "shell.execute_reply": "2021-11-13T13:05:06.437659Z",
     "shell.execute_reply.started": "2021-11-13T13:04:23.323386Z"
    },
    "papermill": {
     "duration": 0.107276,
     "end_time": "2021-11-13T13:05:06.437841",
     "exception": false,
     "start_time": "2021-11-13T13:05:06.330565",
     "status": "completed"
    },
    "tags": []
   },
   "outputs": [
    {
     "data": {
      "text/plain": [
       "longitude             0\n",
       "latitude              0\n",
       "housing_median_age    0\n",
       "total_rooms           0\n",
       "total_bedrooms        0\n",
       "population            0\n",
       "households            0\n",
       "median_income         0\n",
       "median_house_value    0\n",
       "ocean_proximity       0\n",
       "gender                0\n",
       "dtype: int64"
      ]
     },
     "execution_count": 44,
     "metadata": {},
     "output_type": "execute_result"
    }
   ],
   "source": [
    "data.isnull().sum()"
   ]
  },
  {
   "cell_type": "code",
   "execution_count": null,
   "id": "3b2d97c2",
   "metadata": {
    "papermill": {
     "duration": 0.094487,
     "end_time": "2021-11-13T13:05:06.628091",
     "exception": false,
     "start_time": "2021-11-13T13:05:06.533604",
     "status": "completed"
    },
    "tags": []
   },
   "outputs": [],
   "source": []
  },
  {
   "cell_type": "markdown",
   "id": "76bb0bf6",
   "metadata": {
    "papermill": {
     "duration": 0.093851,
     "end_time": "2021-11-13T13:05:06.822374",
     "exception": false,
     "start_time": "2021-11-13T13:05:06.728523",
     "status": "completed"
    },
    "tags": []
   },
   "source": [
    "-------------------------"
   ]
  },
  {
   "cell_type": "code",
   "execution_count": 45,
   "id": "57839cfb",
   "metadata": {
    "execution": {
     "iopub.execute_input": "2021-11-13T13:05:07.018029Z",
     "iopub.status.busy": "2021-11-13T13:05:07.016715Z",
     "iopub.status.idle": "2021-11-13T13:05:07.020615Z",
     "shell.execute_reply": "2021-11-13T13:05:07.021225Z",
     "shell.execute_reply.started": "2021-11-13T13:04:23.333343Z"
    },
    "papermill": {
     "duration": 0.10309,
     "end_time": "2021-11-13T13:05:07.021411",
     "exception": false,
     "start_time": "2021-11-13T13:05:06.918321",
     "status": "completed"
    },
    "tags": []
   },
   "outputs": [],
   "source": [
    "# ultirnative dealing with outliers"
   ]
  },
  {
   "cell_type": "code",
   "execution_count": 46,
   "id": "1cf6f3ae",
   "metadata": {
    "execution": {
     "iopub.execute_input": "2021-11-13T13:05:07.214958Z",
     "iopub.status.busy": "2021-11-13T13:05:07.214017Z",
     "iopub.status.idle": "2021-11-13T13:05:07.217166Z",
     "shell.execute_reply": "2021-11-13T13:05:07.217742Z",
     "shell.execute_reply.started": "2021-11-13T13:04:23.344513Z"
    },
    "papermill": {
     "duration": 0.101396,
     "end_time": "2021-11-13T13:05:07.217921",
     "exception": false,
     "start_time": "2021-11-13T13:05:07.116525",
     "status": "completed"
    },
    "tags": []
   },
   "outputs": [],
   "source": [
    "#data.plot(kind = \"box\" , subplots = True , figsize = (18,15) ,  layout = (3,3))\n",
    "#plt.show()"
   ]
  },
  {
   "cell_type": "code",
   "execution_count": 47,
   "id": "0a487437",
   "metadata": {
    "execution": {
     "iopub.execute_input": "2021-11-13T13:05:07.413215Z",
     "iopub.status.busy": "2021-11-13T13:05:07.412190Z",
     "iopub.status.idle": "2021-11-13T13:05:07.415528Z",
     "shell.execute_reply": "2021-11-13T13:05:07.416051Z",
     "shell.execute_reply.started": "2021-11-13T13:04:23.360533Z"
    },
    "papermill": {
     "duration": 0.102449,
     "end_time": "2021-11-13T13:05:07.416227",
     "exception": false,
     "start_time": "2021-11-13T13:05:07.313778",
     "status": "completed"
    },
    "tags": []
   },
   "outputs": [],
   "source": [
    "#sns.boxplot(x = data['total_rooms'])"
   ]
  },
  {
   "cell_type": "code",
   "execution_count": 48,
   "id": "c4febb86",
   "metadata": {
    "execution": {
     "iopub.execute_input": "2021-11-13T13:05:07.613197Z",
     "iopub.status.busy": "2021-11-13T13:05:07.612230Z",
     "iopub.status.idle": "2021-11-13T13:05:07.614738Z",
     "shell.execute_reply": "2021-11-13T13:05:07.614100Z",
     "shell.execute_reply.started": "2021-11-13T13:04:23.372452Z"
    },
    "papermill": {
     "duration": 0.10169,
     "end_time": "2021-11-13T13:05:07.614884",
     "exception": false,
     "start_time": "2021-11-13T13:05:07.513194",
     "status": "completed"
    },
    "tags": []
   },
   "outputs": [],
   "source": [
    "#fig , ax = plt.subplots(figsize=(12,8))\n",
    "#ax.scatter(x= data[\"total_rooms\"],y = data[\"median_house_value\"])\n",
    "#ax.set_xlabel(\"total_rooms\")\n",
    "#ax.set_ylabel(\"median_house_value\")\n",
    "#plt.show()"
   ]
  },
  {
   "cell_type": "code",
   "execution_count": 49,
   "id": "2c7bff59",
   "metadata": {
    "execution": {
     "iopub.execute_input": "2021-11-13T13:05:07.840339Z",
     "iopub.status.busy": "2021-11-13T13:05:07.839426Z",
     "iopub.status.idle": "2021-11-13T13:05:07.842439Z",
     "shell.execute_reply": "2021-11-13T13:05:07.841726Z",
     "shell.execute_reply.started": "2021-11-13T13:04:23.385723Z"
    },
    "papermill": {
     "duration": 0.107585,
     "end_time": "2021-11-13T13:05:07.842589",
     "exception": false,
     "start_time": "2021-11-13T13:05:07.735004",
     "status": "completed"
    },
    "tags": []
   },
   "outputs": [],
   "source": [
    "#t_df = data[data['total_rooms']< 12000]\n",
    "#fig , ax = plt.subplots(figsize=(12,6))\n",
    "#ax.scatter(x= t_df[\"total_rooms\"],y = t_df[\"median_house_value\"])\n",
    "#ax.set_xlabel(\"total_rooms\")\n",
    "#ax.set_ylabel(\"median_house_value\")\n",
    "#plt.show()"
   ]
  },
  {
   "cell_type": "code",
   "execution_count": 50,
   "id": "ff382ddd",
   "metadata": {
    "execution": {
     "iopub.execute_input": "2021-11-13T13:05:08.038543Z",
     "iopub.status.busy": "2021-11-13T13:05:08.037267Z",
     "iopub.status.idle": "2021-11-13T13:05:08.040061Z",
     "shell.execute_reply": "2021-11-13T13:05:08.039490Z",
     "shell.execute_reply.started": "2021-11-13T13:04:23.398574Z"
    },
    "papermill": {
     "duration": 0.102661,
     "end_time": "2021-11-13T13:05:08.040220",
     "exception": false,
     "start_time": "2021-11-13T13:05:07.937559",
     "status": "completed"
    },
    "tags": []
   },
   "outputs": [],
   "source": [
    "#from pandas.plotting import scatter_matrix\n",
    "#attributes=[\"median_house_value\",\"median_income\",\"total_rooms\",\"housing_median_age\"]\n",
    "#scatter_matrix(data[attributes],figsize=(12,8))"
   ]
  },
  {
   "cell_type": "code",
   "execution_count": 51,
   "id": "7d3cebe9",
   "metadata": {
    "execution": {
     "iopub.execute_input": "2021-11-13T13:05:08.235294Z",
     "iopub.status.busy": "2021-11-13T13:05:08.234358Z",
     "iopub.status.idle": "2021-11-13T13:05:08.237117Z",
     "shell.execute_reply": "2021-11-13T13:05:08.236587Z",
     "shell.execute_reply.started": "2021-11-13T13:04:23.412423Z"
    },
    "papermill": {
     "duration": 0.101355,
     "end_time": "2021-11-13T13:05:08.237265",
     "exception": false,
     "start_time": "2021-11-13T13:05:08.135910",
     "status": "completed"
    },
    "tags": []
   },
   "outputs": [],
   "source": [
    "#data.shape"
   ]
  },
  {
   "cell_type": "code",
   "execution_count": 52,
   "id": "499f51fc",
   "metadata": {
    "execution": {
     "iopub.execute_input": "2021-11-13T13:05:08.431443Z",
     "iopub.status.busy": "2021-11-13T13:05:08.430268Z",
     "iopub.status.idle": "2021-11-13T13:05:08.434588Z",
     "shell.execute_reply": "2021-11-13T13:05:08.433870Z",
     "shell.execute_reply.started": "2021-11-13T13:04:23.426485Z"
    },
    "papermill": {
     "duration": 0.102408,
     "end_time": "2021-11-13T13:05:08.434736",
     "exception": false,
     "start_time": "2021-11-13T13:05:08.332328",
     "status": "completed"
    },
    "tags": []
   },
   "outputs": [],
   "source": [
    "# remove outliers with the help of quantile"
   ]
  },
  {
   "cell_type": "code",
   "execution_count": 53,
   "id": "ca0f6ee7",
   "metadata": {
    "execution": {
     "iopub.execute_input": "2021-11-13T13:05:08.628736Z",
     "iopub.status.busy": "2021-11-13T13:05:08.628079Z",
     "iopub.status.idle": "2021-11-13T13:05:08.631025Z",
     "shell.execute_reply": "2021-11-13T13:05:08.631654Z",
     "shell.execute_reply.started": "2021-11-13T13:04:23.442424Z"
    },
    "papermill": {
     "duration": 0.102856,
     "end_time": "2021-11-13T13:05:08.631841",
     "exception": false,
     "start_time": "2021-11-13T13:05:08.528985",
     "status": "completed"
    },
    "tags": []
   },
   "outputs": [],
   "source": [
    "#lower_limit=data[\"median_house_value\"].quantile(0.25)\n",
    "#lower_limit"
   ]
  },
  {
   "cell_type": "code",
   "execution_count": 54,
   "id": "762f523d",
   "metadata": {
    "execution": {
     "iopub.execute_input": "2021-11-13T13:05:08.827106Z",
     "iopub.status.busy": "2021-11-13T13:05:08.826039Z",
     "iopub.status.idle": "2021-11-13T13:05:08.829551Z",
     "shell.execute_reply": "2021-11-13T13:05:08.830164Z",
     "shell.execute_reply.started": "2021-11-13T13:04:23.460370Z"
    },
    "papermill": {
     "duration": 0.102429,
     "end_time": "2021-11-13T13:05:08.830348",
     "exception": false,
     "start_time": "2021-11-13T13:05:08.727919",
     "status": "completed"
    },
    "tags": []
   },
   "outputs": [],
   "source": [
    "#upper_limit=data[\"median_house_value\"].quantile(0.95)\n",
    "#upper_limit"
   ]
  },
  {
   "cell_type": "code",
   "execution_count": 55,
   "id": "77f2efb0",
   "metadata": {
    "execution": {
     "iopub.execute_input": "2021-11-13T13:05:09.026035Z",
     "iopub.status.busy": "2021-11-13T13:05:09.025004Z",
     "iopub.status.idle": "2021-11-13T13:05:09.028365Z",
     "shell.execute_reply": "2021-11-13T13:05:09.028992Z",
     "shell.execute_reply.started": "2021-11-13T13:04:23.474007Z"
    },
    "papermill": {
     "duration": 0.103096,
     "end_time": "2021-11-13T13:05:09.029179",
     "exception": false,
     "start_time": "2021-11-13T13:05:08.926083",
     "status": "completed"
    },
    "tags": []
   },
   "outputs": [],
   "source": [
    "#data=data[(data[\"median_house_value\"]<upper_limit) ]"
   ]
  },
  {
   "cell_type": "code",
   "execution_count": 56,
   "id": "bdca2377",
   "metadata": {
    "execution": {
     "iopub.execute_input": "2021-11-13T13:05:09.222116Z",
     "iopub.status.busy": "2021-11-13T13:05:09.221084Z",
     "iopub.status.idle": "2021-11-13T13:05:09.224515Z",
     "shell.execute_reply": "2021-11-13T13:05:09.225111Z",
     "shell.execute_reply.started": "2021-11-13T13:04:23.488751Z"
    },
    "papermill": {
     "duration": 0.101378,
     "end_time": "2021-11-13T13:05:09.225293",
     "exception": false,
     "start_time": "2021-11-13T13:05:09.123915",
     "status": "completed"
    },
    "tags": []
   },
   "outputs": [],
   "source": [
    "#data.shape"
   ]
  },
  {
   "cell_type": "code",
   "execution_count": 57,
   "id": "ad60417e",
   "metadata": {
    "execution": {
     "iopub.execute_input": "2021-11-13T13:05:09.418314Z",
     "iopub.status.busy": "2021-11-13T13:05:09.417299Z",
     "iopub.status.idle": "2021-11-13T13:05:09.421898Z",
     "shell.execute_reply": "2021-11-13T13:05:09.421351Z",
     "shell.execute_reply.started": "2021-11-13T13:04:23.499287Z"
    },
    "papermill": {
     "duration": 0.102006,
     "end_time": "2021-11-13T13:05:09.422102",
     "exception": false,
     "start_time": "2021-11-13T13:05:09.320096",
     "status": "completed"
    },
    "tags": []
   },
   "outputs": [],
   "source": [
    "#from pandas.plotting import scatter_matrix\n",
    "#attributes=[\"median_house_value\",\"median_income\",\"total_rooms\",\"housing_median_age\"]\n",
    "#scatter_matrix(data[attributes],figsize=(12,8))\n"
   ]
  },
  {
   "cell_type": "code",
   "execution_count": null,
   "id": "ca623ded",
   "metadata": {
    "papermill": {
     "duration": 0.094138,
     "end_time": "2021-11-13T13:05:09.612198",
     "exception": false,
     "start_time": "2021-11-13T13:05:09.518060",
     "status": "completed"
    },
    "tags": []
   },
   "outputs": [],
   "source": []
  },
  {
   "cell_type": "markdown",
   "id": "7b1935dc",
   "metadata": {
    "papermill": {
     "duration": 0.095279,
     "end_time": "2021-11-13T13:05:09.802039",
     "exception": false,
     "start_time": "2021-11-13T13:05:09.706760",
     "status": "completed"
    },
    "tags": []
   },
   "source": [
    "-------------------------------"
   ]
  },
  {
   "cell_type": "code",
   "execution_count": 58,
   "id": "1df85dff",
   "metadata": {
    "execution": {
     "iopub.execute_input": "2021-11-13T13:05:10.006980Z",
     "iopub.status.busy": "2021-11-13T13:05:10.005690Z",
     "iopub.status.idle": "2021-11-13T13:05:11.130020Z",
     "shell.execute_reply": "2021-11-13T13:05:11.130540Z",
     "shell.execute_reply.started": "2021-11-13T13:04:23.509580Z"
    },
    "papermill": {
     "duration": 1.233927,
     "end_time": "2021-11-13T13:05:11.130721",
     "exception": false,
     "start_time": "2021-11-13T13:05:09.896794",
     "status": "completed"
    },
    "tags": []
   },
   "outputs": [
    {
     "data": {
      "text/plain": [
       "<AxesSubplot:>"
      ]
     },
     "execution_count": 58,
     "metadata": {},
     "output_type": "execute_result"
    },
    {
     "data": {
      "image/png": "[encoded data removed]",
      "text/plain": [
       "<Figure size 1152x720 with 2 Axes>"
      ]
     },
     "metadata": {
      "needs_background": "light"
     },
     "output_type": "display_data"
    }
   ],
   "source": [
    "plt.figure(figsize=(16,10))\n",
    "sns.heatmap(data.corr(), cbar = True , annot=True)"
   ]
  },
  {
   "cell_type": "code",
   "execution_count": 59,
   "id": "0ad9bd2a",
   "metadata": {
    "execution": {
     "iopub.execute_input": "2021-11-13T13:05:11.331814Z",
     "iopub.status.busy": "2021-11-13T13:05:11.331094Z",
     "iopub.status.idle": "2021-11-13T13:05:11.333936Z",
     "shell.execute_reply": "2021-11-13T13:05:11.334582Z",
     "shell.execute_reply.started": "2021-11-13T13:04:24.605985Z"
    },
    "papermill": {
     "duration": 0.104803,
     "end_time": "2021-11-13T13:05:11.334758",
     "exception": false,
     "start_time": "2021-11-13T13:05:11.229955",
     "status": "completed"
    },
    "tags": []
   },
   "outputs": [],
   "source": [
    "#strong corelation between \"households\" , \"population\" , \"total bedrooms\" and \"total rooms\" .\n",
    "#strong corelation between \"median_house_value\" , \"median_income\". "
   ]
  },
  {
   "cell_type": "code",
   "execution_count": 60,
   "id": "061542b5",
   "metadata": {
    "execution": {
     "iopub.execute_input": "2021-11-13T13:05:11.536407Z",
     "iopub.status.busy": "2021-11-13T13:05:11.535702Z",
     "iopub.status.idle": "2021-11-13T13:05:11.542080Z",
     "shell.execute_reply": "2021-11-13T13:05:11.542644Z",
     "shell.execute_reply.started": "2021-11-13T13:04:24.610956Z"
    },
    "papermill": {
     "duration": 0.109249,
     "end_time": "2021-11-13T13:05:11.542841",
     "exception": false,
     "start_time": "2021-11-13T13:05:11.433592",
     "status": "completed"
    },
    "tags": []
   },
   "outputs": [],
   "source": [
    "data.drop(\"gender\",axis=1,inplace = True)"
   ]
  },
  {
   "cell_type": "code",
   "execution_count": 61,
   "id": "6d449df6",
   "metadata": {
    "execution": {
     "iopub.execute_input": "2021-11-13T13:05:11.746271Z",
     "iopub.status.busy": "2021-11-13T13:05:11.745472Z",
     "iopub.status.idle": "2021-11-13T13:05:11.751204Z",
     "shell.execute_reply": "2021-11-13T13:05:11.751765Z",
     "shell.execute_reply.started": "2021-11-13T13:04:24.624981Z"
    },
    "papermill": {
     "duration": 0.108281,
     "end_time": "2021-11-13T13:05:11.751988",
     "exception": false,
     "start_time": "2021-11-13T13:05:11.643707",
     "status": "completed"
    },
    "tags": []
   },
   "outputs": [],
   "source": [
    "X = data.drop(\"median_house_value\" , axis = 1).values\n",
    "y = data['median_house_value'].values"
   ]
  },
  {
   "cell_type": "code",
   "execution_count": 62,
   "id": "bb68fa12",
   "metadata": {
    "execution": {
     "iopub.execute_input": "2021-11-13T13:05:11.952542Z",
     "iopub.status.busy": "2021-11-13T13:05:11.951851Z",
     "iopub.status.idle": "2021-11-13T13:05:12.018281Z",
     "shell.execute_reply": "2021-11-13T13:05:12.017683Z",
     "shell.execute_reply.started": "2021-11-13T13:04:24.635498Z"
    },
    "papermill": {
     "duration": 0.167022,
     "end_time": "2021-11-13T13:05:12.018444",
     "exception": false,
     "start_time": "2021-11-13T13:05:11.851422",
     "status": "completed"
    },
    "tags": []
   },
   "outputs": [],
   "source": [
    "from sklearn.model_selection import train_test_split\n",
    "X_train,X_test,y_train,y_test = train_test_split(X,y, test_size=0.25 , random_state=42)"
   ]
  },
  {
   "cell_type": "code",
   "execution_count": 63,
   "id": "f4cb86d8",
   "metadata": {
    "execution": {
     "iopub.execute_input": "2021-11-13T13:05:12.221535Z",
     "iopub.status.busy": "2021-11-13T13:05:12.220762Z",
     "iopub.status.idle": "2021-11-13T13:05:12.231907Z",
     "shell.execute_reply": "2021-11-13T13:05:12.232597Z",
     "shell.execute_reply.started": "2021-11-13T13:04:24.648216Z"
    },
    "papermill": {
     "duration": 0.114338,
     "end_time": "2021-11-13T13:05:12.232784",
     "exception": false,
     "start_time": "2021-11-13T13:05:12.118446",
     "status": "completed"
    },
    "tags": []
   },
   "outputs": [],
   "source": [
    "from sklearn.preprocessing import StandardScaler\n",
    "scale = StandardScaler ()\n",
    "X_train = scale.fit_transform(X_train)\n",
    "X_test = scale.fit_transform(X_test)"
   ]
  },
  {
   "cell_type": "code",
   "execution_count": 64,
   "id": "ac15db47",
   "metadata": {
    "execution": {
     "iopub.execute_input": "2021-11-13T13:05:12.431827Z",
     "iopub.status.busy": "2021-11-13T13:05:12.431131Z",
     "iopub.status.idle": "2021-11-13T13:05:12.438293Z",
     "shell.execute_reply": "2021-11-13T13:05:12.438830Z",
     "shell.execute_reply.started": "2021-11-13T13:04:24.664730Z"
    },
    "papermill": {
     "duration": 0.108221,
     "end_time": "2021-11-13T13:05:12.439030",
     "exception": false,
     "start_time": "2021-11-13T13:05:12.330809",
     "status": "completed"
    },
    "tags": []
   },
   "outputs": [
    {
     "data": {
      "text/plain": [
       "longitude             0\n",
       "latitude              0\n",
       "housing_median_age    0\n",
       "total_rooms           0\n",
       "total_bedrooms        0\n",
       "population            0\n",
       "households            0\n",
       "median_income         0\n",
       "median_house_value    0\n",
       "ocean_proximity       0\n",
       "dtype: int64"
      ]
     },
     "execution_count": 64,
     "metadata": {},
     "output_type": "execute_result"
    }
   ],
   "source": [
    "data.isnull().sum()"
   ]
  },
  {
   "cell_type": "code",
   "execution_count": 65,
   "id": "7c945ce9",
   "metadata": {
    "execution": {
     "iopub.execute_input": "2021-11-13T13:05:12.643497Z",
     "iopub.status.busy": "2021-11-13T13:05:12.642723Z",
     "iopub.status.idle": "2021-11-13T13:05:12.753081Z",
     "shell.execute_reply": "2021-11-13T13:05:12.753705Z",
     "shell.execute_reply.started": "2021-11-13T13:04:24.674152Z"
    },
    "papermill": {
     "duration": 0.216358,
     "end_time": "2021-11-13T13:05:12.753897",
     "exception": false,
     "start_time": "2021-11-13T13:05:12.537539",
     "status": "completed"
    },
    "tags": []
   },
   "outputs": [
    {
     "data": {
      "text/plain": [
       "LinearRegression()"
      ]
     },
     "execution_count": 65,
     "metadata": {},
     "output_type": "execute_result"
    }
   ],
   "source": [
    "from sklearn.linear_model import LinearRegression\n",
    "lr = LinearRegression()\n",
    "lr.fit(X_train,y_train)"
   ]
  },
  {
   "cell_type": "code",
   "execution_count": 66,
   "id": "cf714a85",
   "metadata": {
    "execution": {
     "iopub.execute_input": "2021-11-13T13:05:12.966157Z",
     "iopub.status.busy": "2021-11-13T13:05:12.964747Z",
     "iopub.status.idle": "2021-11-13T13:05:12.978697Z",
     "shell.execute_reply": "2021-11-13T13:05:12.979717Z",
     "shell.execute_reply.started": "2021-11-13T13:04:24.771190Z"
    },
    "papermill": {
     "duration": 0.122921,
     "end_time": "2021-11-13T13:05:12.980024",
     "exception": false,
     "start_time": "2021-11-13T13:05:12.857103",
     "status": "completed"
    },
    "tags": []
   },
   "outputs": [
    {
     "data": {
      "text/plain": [
       "0.6116608167440845"
      ]
     },
     "execution_count": 66,
     "metadata": {},
     "output_type": "execute_result"
    }
   ],
   "source": [
    "lr.score(X_train,y_train)"
   ]
  },
  {
   "cell_type": "code",
   "execution_count": 67,
   "id": "a8e2fdb6",
   "metadata": {
    "execution": {
     "iopub.execute_input": "2021-11-13T13:05:13.240653Z",
     "iopub.status.busy": "2021-11-13T13:05:13.233116Z",
     "iopub.status.idle": "2021-11-13T13:05:13.244075Z",
     "shell.execute_reply": "2021-11-13T13:05:13.245149Z",
     "shell.execute_reply.started": "2021-11-13T13:04:24.788730Z"
    },
    "papermill": {
     "duration": 0.114719,
     "end_time": "2021-11-13T13:05:13.245455",
     "exception": false,
     "start_time": "2021-11-13T13:05:13.130736",
     "status": "completed"
    },
    "tags": []
   },
   "outputs": [
    {
     "data": {
      "text/plain": [
       "0.6009819730390209"
      ]
     },
     "execution_count": 67,
     "metadata": {},
     "output_type": "execute_result"
    }
   ],
   "source": [
    "lr.score(X_test,y_test)"
   ]
  },
  {
   "cell_type": "code",
   "execution_count": 68,
   "id": "00a9f90e",
   "metadata": {
    "execution": {
     "iopub.execute_input": "2021-11-13T13:05:13.503000Z",
     "iopub.status.busy": "2021-11-13T13:05:13.502291Z",
     "iopub.status.idle": "2021-11-13T13:05:13.505431Z",
     "shell.execute_reply": "2021-11-13T13:05:13.504806Z",
     "shell.execute_reply.started": "2021-11-13T13:04:24.803954Z"
    },
    "papermill": {
     "duration": 0.1076,
     "end_time": "2021-11-13T13:05:13.505580",
     "exception": false,
     "start_time": "2021-11-13T13:05:13.397980",
     "status": "completed"
    },
    "tags": []
   },
   "outputs": [],
   "source": [
    "from sklearn.linear_model import Ridge\n",
    "rid = Ridge()"
   ]
  },
  {
   "cell_type": "code",
   "execution_count": 69,
   "id": "f56f70a0",
   "metadata": {
    "execution": {
     "iopub.execute_input": "2021-11-13T13:05:13.717292Z",
     "iopub.status.busy": "2021-11-13T13:05:13.716539Z",
     "iopub.status.idle": "2021-11-13T13:05:13.728789Z",
     "shell.execute_reply": "2021-11-13T13:05:13.729682Z",
     "shell.execute_reply.started": "2021-11-13T13:04:24.811037Z"
    },
    "papermill": {
     "duration": 0.125337,
     "end_time": "2021-11-13T13:05:13.729981",
     "exception": false,
     "start_time": "2021-11-13T13:05:13.604644",
     "status": "completed"
    },
    "tags": []
   },
   "outputs": [
    {
     "data": {
      "text/plain": [
       "Ridge()"
      ]
     },
     "execution_count": 69,
     "metadata": {},
     "output_type": "execute_result"
    }
   ],
   "source": [
    "rid.fit(X_train,y_train)"
   ]
  },
  {
   "cell_type": "code",
   "execution_count": 70,
   "id": "5ce458ae",
   "metadata": {
    "execution": {
     "iopub.execute_input": "2021-11-13T13:05:13.992405Z",
     "iopub.status.busy": "2021-11-13T13:05:13.991171Z",
     "iopub.status.idle": "2021-11-13T13:05:14.000846Z",
     "shell.execute_reply": "2021-11-13T13:05:14.001927Z",
     "shell.execute_reply.started": "2021-11-13T13:04:24.836297Z"
    },
    "papermill": {
     "duration": 0.119046,
     "end_time": "2021-11-13T13:05:14.002240",
     "exception": false,
     "start_time": "2021-11-13T13:05:13.883194",
     "status": "completed"
    },
    "tags": []
   },
   "outputs": [
    {
     "data": {
      "text/plain": [
       "0.6116607222204589"
      ]
     },
     "execution_count": 70,
     "metadata": {},
     "output_type": "execute_result"
    }
   ],
   "source": [
    "rid.score(X_train,y_train)"
   ]
  },
  {
   "cell_type": "code",
   "execution_count": 71,
   "id": "ebe814b8",
   "metadata": {
    "execution": {
     "iopub.execute_input": "2021-11-13T13:05:14.264339Z",
     "iopub.status.busy": "2021-11-13T13:05:14.263173Z",
     "iopub.status.idle": "2021-11-13T13:05:14.268917Z",
     "shell.execute_reply": "2021-11-13T13:05:14.270001Z",
     "shell.execute_reply.started": "2021-11-13T13:04:24.850131Z"
    },
    "papermill": {
     "duration": 0.113951,
     "end_time": "2021-11-13T13:05:14.270289",
     "exception": false,
     "start_time": "2021-11-13T13:05:14.156338",
     "status": "completed"
    },
    "tags": []
   },
   "outputs": [
    {
     "data": {
      "text/plain": [
       "0.600974275039033"
      ]
     },
     "execution_count": 71,
     "metadata": {},
     "output_type": "execute_result"
    }
   ],
   "source": [
    "rid.score(X_test,y_test)"
   ]
  },
  {
   "cell_type": "code",
   "execution_count": 72,
   "id": "a3062719",
   "metadata": {
    "execution": {
     "iopub.execute_input": "2021-11-13T13:05:14.529417Z",
     "iopub.status.busy": "2021-11-13T13:05:14.528285Z",
     "iopub.status.idle": "2021-11-13T13:05:14.533754Z",
     "shell.execute_reply": "2021-11-13T13:05:14.534787Z",
     "shell.execute_reply.started": "2021-11-13T13:04:24.865394Z"
    },
    "papermill": {
     "duration": 0.112472,
     "end_time": "2021-11-13T13:05:14.535086",
     "exception": false,
     "start_time": "2021-11-13T13:05:14.422614",
     "status": "completed"
    },
    "tags": []
   },
   "outputs": [],
   "source": [
    "y_pred = lr.predict(X_test)"
   ]
  },
  {
   "cell_type": "code",
   "execution_count": 73,
   "id": "6b3711ff",
   "metadata": {
    "execution": {
     "iopub.execute_input": "2021-11-13T13:05:14.794838Z",
     "iopub.status.busy": "2021-11-13T13:05:14.793522Z",
     "iopub.status.idle": "2021-11-13T13:05:14.799514Z",
     "shell.execute_reply": "2021-11-13T13:05:14.800549Z",
     "shell.execute_reply.started": "2021-11-13T13:04:24.875283Z"
    },
    "papermill": {
     "duration": 0.112776,
     "end_time": "2021-11-13T13:05:14.800852",
     "exception": false,
     "start_time": "2021-11-13T13:05:14.688076",
     "status": "completed"
    },
    "tags": []
   },
   "outputs": [],
   "source": [
    "y_pred2 = rid.predict(X_test)"
   ]
  },
  {
   "cell_type": "code",
   "execution_count": 74,
   "id": "8e334a26",
   "metadata": {
    "execution": {
     "iopub.execute_input": "2021-11-13T13:05:15.062477Z",
     "iopub.status.busy": "2021-11-13T13:05:15.061490Z",
     "iopub.status.idle": "2021-11-13T13:05:15.065760Z",
     "shell.execute_reply": "2021-11-13T13:05:15.065240Z",
     "shell.execute_reply.started": "2021-11-13T13:04:24.889961Z"
    },
    "papermill": {
     "duration": 0.111625,
     "end_time": "2021-11-13T13:05:15.065907",
     "exception": false,
     "start_time": "2021-11-13T13:05:14.954282",
     "status": "completed"
    },
    "tags": []
   },
   "outputs": [
    {
     "data": {
      "text/plain": [
       "0.6009819730390209"
      ]
     },
     "execution_count": 74,
     "metadata": {},
     "output_type": "execute_result"
    }
   ],
   "source": [
    "from sklearn.metrics import r2_score\n",
    "r2 = r2_score(y_test , y_pred)\n",
    "r2"
   ]
  },
  {
   "cell_type": "code",
   "execution_count": 75,
   "id": "962659ab",
   "metadata": {
    "execution": {
     "iopub.execute_input": "2021-11-13T13:05:15.274523Z",
     "iopub.status.busy": "2021-11-13T13:05:15.271401Z",
     "iopub.status.idle": "2021-11-13T13:05:15.278135Z",
     "shell.execute_reply": "2021-11-13T13:05:15.277580Z",
     "shell.execute_reply.started": "2021-11-13T13:04:24.928395Z"
    },
    "papermill": {
     "duration": 0.111368,
     "end_time": "2021-11-13T13:05:15.278281",
     "exception": false,
     "start_time": "2021-11-13T13:05:15.166913",
     "status": "completed"
    },
    "tags": []
   },
   "outputs": [
    {
     "data": {
      "text/plain": [
       "Index(['longitude', 'latitude', 'housing_median_age', 'total_rooms',\n",
       "       'total_bedrooms', 'population', 'households', 'median_income',\n",
       "       'median_house_value', 'ocean_proximity'],\n",
       "      dtype='object')"
      ]
     },
     "execution_count": 75,
     "metadata": {},
     "output_type": "execute_result"
    }
   ],
   "source": [
    "data.columns"
   ]
  },
  {
   "cell_type": "code",
   "execution_count": 76,
   "id": "644a0f93",
   "metadata": {
    "execution": {
     "iopub.execute_input": "2021-11-13T13:05:15.494829Z",
     "iopub.status.busy": "2021-11-13T13:05:15.493897Z",
     "iopub.status.idle": "2021-11-13T13:05:15.498004Z",
     "shell.execute_reply": "2021-11-13T13:05:15.497443Z",
     "shell.execute_reply.started": "2021-11-13T13:04:24.953118Z"
    },
    "papermill": {
     "duration": 0.115457,
     "end_time": "2021-11-13T13:05:15.498154",
     "exception": false,
     "start_time": "2021-11-13T13:05:15.382697",
     "status": "completed"
    },
    "tags": []
   },
   "outputs": [
    {
     "data": {
      "text/plain": [
       "'\"\"\\nfigure, ((ax1, ax2), (ax3, ax4), (ax5, ax6), (ax7, ax8), (ax9, ax10)) = plt.subplots(nrows=5, ncols=2)\\nfigure.set_size_inches(16,28)\\n_ = sns.regplot(data[\\'longitude\\'], data[\\'median_house_value\\'], ax=ax1)\\n_ = sns.regplot(data[\\'latitude\\'], data[\\'median_house_value\\'], ax=ax2)\\n_ = sns.regplot(data[\\'housing_median_age\\'], data[\\'median_house_value\\'], ax=ax3)\\n_ = sns.regplot(data[\\'total_rooms\\'], data[\\'median_house_value\\'], ax=ax4)\\n_ = sns.regplot(data[\\'total_bedrooms\\'], data[\\'median_house_value\\'], ax=ax5)\\n_ = sns.regplot(data[\\'population\\'], data[\\'median_house_value\\'], ax=ax6)\\n_ = sns.regplot(data[\\'households\\'], data[\\'median_house_value\\'], ax=ax7)\\n_ = sns.regplot(data[\\'median_income\\'], data[\\'median_house_value\\'], ax=ax8)\\n_ = sns.regplot(data[\\'median_house_value\\'], data[\\'median_house_value\\'], ax=ax9)\\n_ = sns.regplot(data[\\'ocean_proximity\\'], data[\\'median_house_value\\'], ax=ax10)\\n'"
      ]
     },
     "execution_count": 76,
     "metadata": {},
     "output_type": "execute_result"
    }
   ],
   "source": [
    "\"\"\"\"\"\n",
    "figure, ((ax1, ax2), (ax3, ax4), (ax5, ax6), (ax7, ax8), (ax9, ax10)) = plt.subplots(nrows=5, ncols=2)\n",
    "figure.set_size_inches(16,28)\n",
    "_ = sns.regplot(data['longitude'], data['median_house_value'], ax=ax1)\n",
    "_ = sns.regplot(data['latitude'], data['median_house_value'], ax=ax2)\n",
    "_ = sns.regplot(data['housing_median_age'], data['median_house_value'], ax=ax3)\n",
    "_ = sns.regplot(data['total_rooms'], data['median_house_value'], ax=ax4)\n",
    "_ = sns.regplot(data['total_bedrooms'], data['median_house_value'], ax=ax5)\n",
    "_ = sns.regplot(data['population'], data['median_house_value'], ax=ax6)\n",
    "_ = sns.regplot(data['households'], data['median_house_value'], ax=ax7)\n",
    "_ = sns.regplot(data['median_income'], data['median_house_value'], ax=ax8)\n",
    "_ = sns.regplot(data['median_house_value'], data['median_house_value'], ax=ax9)\n",
    "_ = sns.regplot(data['ocean_proximity'], data['median_house_value'], ax=ax10)\n",
    "\"\"\"\"\""
   ]
  },
  {
   "cell_type": "markdown",
   "id": "9cef4882",
   "metadata": {
    "papermill": {
     "duration": 0.100667,
     "end_time": "2021-11-13T13:05:15.702840",
     "exception": false,
     "start_time": "2021-11-13T13:05:15.602173",
     "status": "completed"
    },
    "tags": []
   },
   "source": [
    "----------------------"
   ]
  },
  {
   "cell_type": "markdown",
   "id": "456aab25",
   "metadata": {
    "papermill": {
     "duration": 0.10194,
     "end_time": "2021-11-13T13:05:15.908392",
     "exception": false,
     "start_time": "2021-11-13T13:05:15.806452",
     "status": "completed"
    },
    "tags": []
   },
   "source": [
    "## Business insights "
   ]
  },
  {
   "cell_type": "markdown",
   "id": "9d0fc053",
   "metadata": {
    "papermill": {
     "duration": 0.100927,
     "end_time": "2021-11-13T13:05:16.116659",
     "exception": false,
     "start_time": "2021-11-13T13:05:16.015732",
     "status": "completed"
    },
    "tags": []
   },
   "source": [
    "-as median income increase median housing value increase.\n",
    "\n",
    "-The price of the houses next to ocean is too high compare to all other houses.a"
   ]
  },
  {
   "cell_type": "markdown",
   "id": "edd9ca44",
   "metadata": {
    "papermill": {
     "duration": 0.102062,
     "end_time": "2021-11-13T13:05:16.321215",
     "exception": false,
     "start_time": "2021-11-13T13:05:16.219153",
     "status": "completed"
    },
    "tags": []
   },
   "source": [
    "# Thank You"
   ]
  }
 ],
 "metadata": {
  "kernelspec": {
   "display_name": "Python 3",
   "language": "python",
   "name": "python3"
  },
  "language_info": {
   "codemirror_mode": {
    "name": "ipython",
    "version": 3
   },
   "file_extension": ".py",
   "mimetype": "text/x-python",
   "name": "python",
   "nbconvert_exporter": "python",
   "pygments_lexer": "ipython3",
   "version": "3.7.10"
  },
  "papermill": {
   "default_parameters": {},
   "duration": 40.625935,
   "end_time": "2021-11-13T13:05:17.234536",
   "environment_variables": {},
   "exception": null,
   "input_path": "__notebook__.ipynb",
   "output_path": "__notebook__.ipynb",
   "parameters": {},
   "start_time": "2021-11-13T13:04:36.608601",
   "version": "2.3.3"
  }
 },
 "nbformat": 4,
 "nbformat_minor": 5
}
